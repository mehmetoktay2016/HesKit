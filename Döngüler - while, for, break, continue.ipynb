{
 "metadata": {
  "name": ""
 },
 "nbformat": 3,
 "nbformat_minor": 0,
 "worksheets": [
  {
   "cells": [
    {
     "cell_type": "heading",
     "level": 1,
     "metadata": {},
     "source": [
      "`while` d\u00f6ng\u00fcs\u00fc"
     ]
    },
    {
     "cell_type": "markdown",
     "metadata": {},
     "source": [
      "Programlaman\u0131n temel yap\u0131 ta\u015flar\u0131ndan biri de bir komutlar grubunun tekrar tekrar i\u015fletilmesidir. Bu d\u00f6ng\u00fcler her zaman bir _\u015fart_ ile beraber kullan\u0131l\u0131r. \u015eart do\u011fru oldu\u011fu s\u00fcrece d\u00f6ng\u00fc tekrarlan\u0131r, yanl\u0131\u015f hale geldi\u011finde durur.\n",
      "\n",
      "A\u015fa\u011f\u0131daki d\u00f6ng\u00fc 1-9 aras\u0131 rakamlar\u0131 ekrana basar."
     ]
    },
    {
     "cell_type": "code",
     "collapsed": false,
     "input": [
      "a = 1\n",
      "b = 10\n",
      "while a<b:\n",
      "    print a,\n",
      "    a = a+1   # her ad\u0131mda a'y\u0131 1 artt\u0131r."
     ],
     "language": "python",
     "metadata": {},
     "outputs": [
      {
       "output_type": "stream",
       "stream": "stdout",
       "text": [
        "1 2 3 4 5 6 7 8 9\n"
       ]
      }
     ],
     "prompt_number": 2
    },
    {
     "cell_type": "markdown",
     "metadata": {},
     "source": [
      "* D\u00f6ng\u00fcy\u00fc tan\u0131mlayan `while` kelimesinin ard\u0131ndan bir \u015fart belirtilmelidir. \u015eart do\u011fruysa `while` blokundaki komutlar i\u015fletilir.\n",
      "* `while` bloku i\u00e7inde komutlar kayd\u0131r\u0131lmal\u0131d\u0131r.\n",
      "* Blokun sonunda, `while` \u015fart\u0131 tekrar de\u011ferlendirilir, do\u011fruysa blok bir daha i\u015fletilir.\n",
      "* D\u00f6ng\u00fc bloku i\u00e7inde parametreler \u00f6yle de\u011fi\u015ftirilmelidir ki \u015fart eninde sonunda yanl\u0131\u015f olsun. Yukar\u0131daki \u00f6rnekte, `a` 10 de\u011ferine geldi\u011finde `a<b` \u015fart\u0131 yanl\u0131\u015f olur ve d\u00f6ng\u00fc biter. Bu sa\u011flanmazsa program _sonsuz d\u00f6ng\u00fcye_ girer.\n",
      "* IPython Notebook'da sonsuz d\u00f6ng\u00fcye girdi\u011finizde _Kernel_ men\u00fcs\u00fcnden _Interrupt_ se\u00e7erek, veya `Ctrl-m` ve ard\u0131ndan `i` tu\u015flar\u0131na basarak hesaplamay\u0131 durdurabilirsiniz."
     ]
    },
    {
     "cell_type": "markdown",
     "metadata": {},
     "source": [
      "Bu sefer 1-10 aras\u0131 say\u0131lar\u0131n toplam\u0131n\u0131 veren bir d\u00f6ng\u00fc yazal\u0131m:"
     ]
    },
    {
     "cell_type": "code",
     "collapsed": false,
     "input": [
      "a = 1\n",
      "b = 10\n",
      "toplam = 0\n",
      "while a <= b:     # b'yi dahil etmek istedi\u011fimiz i\u00e7in k\u00fc\u00e7\u00fcke\u015fit kulland\u0131k\n",
      "    toplam += a   # toplam = toplam + a \n",
      "    a += 1\n",
      "print toplam"
     ],
     "language": "python",
     "metadata": {},
     "outputs": [
      {
       "output_type": "stream",
       "stream": "stdout",
       "text": [
        "55\n"
       ]
      }
     ],
     "prompt_number": 3
    },
    {
     "cell_type": "markdown",
     "metadata": {},
     "source": [
      "__Al\u0131\u015ft\u0131rmalar__: Yukar\u0131daki program\u0131 de\u011fi\u015ftirerek \u015fu i\u015flemleri yap\u0131n.\n",
      "1. $1+3+5+\\cdots+101$\n",
      "1. $1^2 + 2^2 + 3^2 + \\cdots + 100^2$\n",
      "1. $\\frac{1}{2} + \\frac{1}{4} + \\frac{1}{8} + \\cdots + \\frac{1}{2^{10}}$\n",
      "1. $1\\times 2 \\times 3 \\times \\cdots \\times 20$"
     ]
    },
    {
     "cell_type": "heading",
     "level": 1,
     "metadata": {},
     "source": [
      "\u0130\u00e7i\u00e7e d\u00f6ng\u00fcler"
     ]
    },
    {
     "cell_type": "markdown",
     "metadata": {},
     "source": [
      "S\u0131k s\u0131k d\u00f6ng\u00fc i\u00e7inde d\u00f6ng\u00fcler kullanmak gerekecektir. Bunun i\u00e7in bir `while` bloku i\u00e7inde  ba\u015fka `while` bloklar\u0131 yaratabiliriz.\n",
      "\n",
      "\u00d6rnek olarak, $p=1,2,3,4,5,6$ olmak \u00fczere, $1^p + 2^p + \\cdots + 10^p$ toplam\u0131n\u0131 hesaplayan bir program yazal\u0131m.\n",
      "\u00d6nce, verilen bir $p$ i\u00e7in bu toplam\u0131 haz\u0131rlayan yal\u0131nkat bir d\u00f6ng\u00fc yazmakla ba\u015flayal\u0131m."
     ]
    },
    {
     "cell_type": "code",
     "collapsed": false,
     "input": [
      "p = 2\n",
      "n = 1\n",
      "toplam = 0\n",
      "while n<=10:\n",
      "    toplam += n**p\n",
      "    n += 1\n",
      "print toplam"
     ],
     "language": "python",
     "metadata": {},
     "outputs": [
      {
       "output_type": "stream",
       "stream": "stdout",
       "text": [
        "385\n"
       ]
      }
     ],
     "prompt_number": 4
    },
    {
     "cell_type": "markdown",
     "metadata": {},
     "source": [
      "\u015eimdi, bu `n` d\u00f6ng\u00fcs\u00fcn\u00fcn etraf\u0131na `p` d\u00f6ng\u00fcs\u00fcn\u00fc \"saral\u0131m\"."
     ]
    },
    {
     "cell_type": "code",
     "collapsed": false,
     "input": [
      "p = 1\n",
      "while p<=6:\n",
      "    n = 1\n",
      "    toplam = 0\n",
      "    while n<=10:\n",
      "        toplam += n**p\n",
      "        n += 1\n",
      "    print p, toplam\n",
      "    p += 1"
     ],
     "language": "python",
     "metadata": {},
     "outputs": [
      {
       "output_type": "stream",
       "stream": "stdout",
       "text": [
        "1 55\n",
        "2 385\n",
        "3 3025\n",
        "4 25333\n",
        "5 220825\n",
        "6 1978405\n"
       ]
      }
     ],
     "prompt_number": 6
    },
    {
     "cell_type": "markdown",
     "metadata": {},
     "source": [
      "\u0130\u00e7i\u00e7e d\u00f6ng\u00fcleri en i\u00e7ten ba\u015flayarak a\u015fama a\u015fama olu\u015fturmak daha kolayd\u0131r ve hatalar\u0131 engellemeye yard\u0131mc\u0131 olur."
     ]
    },
    {
     "cell_type": "markdown",
     "metadata": {},
     "source": [
      "Ba\u015fka bir \u00f6rnek: Kullan\u0131c\u0131dan bir say\u0131 alarak, birden o say\u0131ya kadar olan say\u0131lar\u0131n toplam\u0131n\u0131 veren bir program yazal\u0131m. Kullan\u0131c\u0131 -1 de\u011feri girdi\u011finde program bitsin."
     ]
    },
    {
     "cell_type": "code",
     "collapsed": false,
     "input": [
      "n = input(\"\u00dcst s\u0131n\u0131r (-1 bitirir): \")\n",
      "while n != -1:\n",
      "    i = 1\n",
      "    toplam = 0\n",
      "    while i<=n:\n",
      "        toplam += i\n",
      "        i += 1\n",
      "    print \"1 + ... +\",n,\"=\",toplam\n",
      "    n = input(\"\u00dcst s\u0131n\u0131r (-1 bitirir): \")"
     ],
     "language": "python",
     "metadata": {},
     "outputs": [
      {
       "name": "stdout",
       "output_type": "stream",
       "stream": "stdout",
       "text": [
        "\u00dcst s\u0131n\u0131r (-1 bitirir): 100\n"
       ]
      },
      {
       "output_type": "stream",
       "stream": "stdout",
       "text": [
        "1 + ... + 100 = 5050\n"
       ]
      },
      {
       "name": "stdout",
       "output_type": "stream",
       "stream": "stdout",
       "text": [
        "\u00dcst s\u0131n\u0131r (-1 bitirir): 79874\n"
       ]
      },
      {
       "output_type": "stream",
       "stream": "stdout",
       "text": [
        "1 + ... + 79874 = 3189967875\n"
       ]
      },
      {
       "name": "stdout",
       "output_type": "stream",
       "stream": "stdout",
       "text": [
        "\u00dcst s\u0131n\u0131r (-1 bitirir): -1\n"
       ]
      }
     ],
     "prompt_number": 9
    },
    {
     "cell_type": "heading",
     "level": 1,
     "metadata": {},
     "source": [
      "`break` ve `continue`"
     ]
    },
    {
     "cell_type": "markdown",
     "metadata": {},
     "source": [
      "`break` komutu, bir \u00e7evrimin bitmesini beklemeden hemen d\u00f6ng\u00fcn\u00fcn sonland\u0131r\u0131lmas\u0131n\u0131 sa\u011flar. \u00d6rnek olarak, yukar\u0131daki \u00f6rne\u011fi farkl\u0131 \u015fekilde yazal\u0131m. Bir sonsuz d\u00f6ng\u00fc i\u00e7inde kullan\u0131c\u0131dan girdi alal\u0131m, kullan\u0131c\u0131 -1 girdi\u011finde d\u00f6ng\u00fcy\u00fc k\u0131ral\u0131m."
     ]
    },
    {
     "cell_type": "code",
     "collapsed": false,
     "input": [
      "while True: # sonsuz d\u00f6ng\u00fc\n",
      "    n = input(\"\u00dcst s\u0131n\u0131r (-1 bitirir): \")\n",
      "    if n==-1:\n",
      "        break\n",
      "    i = 1\n",
      "    toplam = 0\n",
      "    while i<=n:\n",
      "        toplam += i\n",
      "        i += 1\n",
      "    print \"1 + + ... +\",n,\"=\",toplam"
     ],
     "language": "python",
     "metadata": {},
     "outputs": [
      {
       "name": "stdout",
       "output_type": "stream",
       "stream": "stdout",
       "text": [
        "\u00dcst s\u0131n\u0131r (-1 bitirir): 5\n"
       ]
      },
      {
       "output_type": "stream",
       "stream": "stdout",
       "text": [
        "1 + + ... + 5 = 15\n"
       ]
      },
      {
       "name": "stdout",
       "output_type": "stream",
       "stream": "stdout",
       "text": [
        "\u00dcst s\u0131n\u0131r (-1 bitirir): 100\n"
       ]
      },
      {
       "output_type": "stream",
       "stream": "stdout",
       "text": [
        "1 + + ... + 100 = 5050\n"
       ]
      },
      {
       "name": "stdout",
       "output_type": "stream",
       "stream": "stdout",
       "text": [
        "\u00dcst s\u0131n\u0131r (-1 bitirir): -1\n"
       ]
      }
     ],
     "prompt_number": 10
    },
    {
     "cell_type": "markdown",
     "metadata": {},
     "source": [
      "Ba\u015fka bir \u00f6rnek olarak, verilen bir say\u0131n\u0131n asal olup olmad\u0131\u011f\u0131n\u0131 veren bir program yazal\u0131m. Verilen say\u0131n\u0131n karek\u00f6k\u00fcne kadar b\u00fct\u00fcn tamsay\u0131lar\u0131 tek tek deneyip, verilen say\u0131y\u0131 b\u00f6len bir tane bulursak asal olmad\u0131\u011f\u0131n\u0131, bulamazsak asal oldu\u011funu anlar\u0131z."
     ]
    },
    {
     "cell_type": "code",
     "collapsed": false,
     "input": [
      "n = input(\"Say\u0131: \")\n",
      "asal = True  # Asal oldu\u011funu varsayarak ba\u015flar\u0131z\n",
      "i = 2\n",
      "while i*i <= n:\n",
      "    if n%i == 0:\n",
      "        asal = False\n",
      "        break  # d\u00f6ng\u00fcden \u00e7\u0131k\n",
      "    i += 1\n",
      "\n",
      "if asal:\n",
      "    print n,\"asal.\"\n",
      "else:\n",
      "    print n,\"asal de\u011fil.\""
     ],
     "language": "python",
     "metadata": {},
     "outputs": [
      {
       "name": "stdout",
       "output_type": "stream",
       "stream": "stdout",
       "text": [
        "Say\u0131: 56\n"
       ]
      },
      {
       "output_type": "stream",
       "stream": "stdout",
       "text": [
        "56 asal de\u011fil.\n"
       ]
      }
     ],
     "prompt_number": 12
    },
    {
     "cell_type": "markdown",
     "metadata": {},
     "source": [
      "`continue` komutu, d\u00f6ng\u00fc blokunun geri kalan\u0131n\u0131 i\u015fletmeden, blokun ba\u015f\u0131na d\u00f6nmeyi sa\u011flar. Tekrarlama \u015fart\u0131 yeniden de\u011ferlendirilir ve d\u00f6ng\u00fc buna g\u00f6re yeniden ba\u015flat\u0131l\u0131r.\n",
      "\n",
      "\u00d6rnek olarak, bir \u00f6nceki program\u0131 negatif say\u0131lar verildi\u011finde, i\u015flem yapmadan, tekrar soracak \u015fekilde de\u011fi\u015ftirelim."
     ]
    },
    {
     "cell_type": "code",
     "collapsed": false,
     "input": [
      "while True: # sonsuz d\u00f6ng\u00fc\n",
      "    n = input(\"\u00dcst s\u0131n\u0131r (-1 bitirir): \")\n",
      "    if n==-1:\n",
      "        break\n",
      "    if n<0:\n",
      "        print \"Pozitif say\u0131 girin.\"\n",
      "        continue   # d\u00f6ng\u00fcn\u00fcn kalan\u0131n\u0131 atla, ba\u015fa d\u00f6n\n",
      "    i = 1\n",
      "    toplam = 0\n",
      "    while i<=n:\n",
      "        toplam += i\n",
      "        i += 1\n",
      "    print \"1 + + ... +\",n,\"=\",toplam"
     ],
     "language": "python",
     "metadata": {},
     "outputs": []
    },
    {
     "cell_type": "heading",
     "level": 1,
     "metadata": {},
     "source": [
      "`for` d\u00f6ng\u00fcs\u00fc"
     ]
    },
    {
     "cell_type": "markdown",
     "metadata": {},
     "source": [
      "`for` ifadesi dizili nesneler (\u00e7okuz, dize, liste, vs.) \u00fczerinden s\u0131rayla ge\u00e7meyi sa\u011flar. S\u00f6zgeli\u015fi, bir listede bulunan say\u0131lar\u0131n toplam\u0131n\u0131 bulabiliriz. \u00d6nce, bunu `while` ile nas\u0131l yapaca\u011f\u0131m\u0131z\u0131 g\u00f6relim."
     ]
    },
    {
     "cell_type": "code",
     "collapsed": false,
     "input": [
      "L = [1, 4, 7, 2, 9, 45]\n",
      "toplam = 0\n",
      "i = 0\n",
      "while i<len(L):\n",
      "    toplam += L[i]\n",
      "    i += 1\n",
      "print toplam"
     ],
     "language": "python",
     "metadata": {},
     "outputs": [
      {
       "output_type": "stream",
       "stream": "stdout",
       "text": [
        "68\n"
       ]
      }
     ],
     "prompt_number": 24
    },
    {
     "cell_type": "markdown",
     "metadata": {},
     "source": [
      "Ayn\u0131s\u0131n\u0131 `for` ile yapmak daha sade ve daha \"Pythonca\" olur."
     ]
    },
    {
     "cell_type": "code",
     "collapsed": false,
     "input": [
      "L = [1, 4, 7, 2, 9, 45]\n",
      "toplam = 0\n",
      "for x in L:\n",
      "    toplam += x\n",
      "print toplam"
     ],
     "language": "python",
     "metadata": {},
     "outputs": [
      {
       "output_type": "stream",
       "stream": "stdout",
       "text": [
        "68\n"
       ]
      }
     ],
     "prompt_number": 25
    },
    {
     "cell_type": "markdown",
     "metadata": {},
     "source": [
      "Yukar\u0131da geli\u015ftirdi\u011fimiz 1-N aras\u0131 say\u0131lar\u0131n toplam\u0131 program\u0131n\u0131 `for` ile \u015f\u00f6yle yazar\u0131z."
     ]
    },
    {
     "cell_type": "code",
     "collapsed": false,
     "input": [
      "N = input(\"\u00dcst s\u0131n\u0131r: \")\n",
      "toplam = 0\n",
      "for x in range(N+1):\n",
      "    toplam += x\n",
      "print toplam"
     ],
     "language": "python",
     "metadata": {},
     "outputs": [
      {
       "name": "stdout",
       "output_type": "stream",
       "stream": "stdout",
       "text": [
        "\u00dcst s\u0131n\u0131r: 10\n"
       ]
      },
      {
       "output_type": "stream",
       "stream": "stdout",
       "text": [
        "55\n"
       ]
      }
     ],
     "prompt_number": 16
    },
    {
     "cell_type": "markdown",
     "metadata": {},
     "source": [
      "Ba\u015fka \u00f6rnekler"
     ]
    },
    {
     "cell_type": "code",
     "collapsed": false,
     "input": [
      "s = \"Merhaba\"\n",
      "for c in s:\n",
      "    print c,\"-\","
     ],
     "language": "python",
     "metadata": {},
     "outputs": [
      {
       "output_type": "stream",
       "stream": "stdout",
       "text": [
        "M - e - r - h - a - b - a -\n"
       ]
      }
     ],
     "prompt_number": 20
    },
    {
     "cell_type": "code",
     "collapsed": false,
     "input": [
      "T = ((1,2), (5,3), (-5, 9))\n",
      "for a,b in T:\n",
      "    print a, \"+\", b, \"=\", a+b"
     ],
     "language": "python",
     "metadata": {},
     "outputs": [
      {
       "output_type": "stream",
       "stream": "stdout",
       "text": [
        "1 + 2 = 3\n",
        "5 + 3 = 8\n",
        "-5 + 9 = 4\n"
       ]
      }
     ],
     "prompt_number": 21
    },
    {
     "cell_type": "markdown",
     "metadata": {},
     "source": [
      "`break` ve `continue` komutlar\u0131 `for` d\u00f6ng\u00fclerinde de aynen i\u015fler."
     ]
    }
   ],
   "metadata": {}
  }
 ]
}
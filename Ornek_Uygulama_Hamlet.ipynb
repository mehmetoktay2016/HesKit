{
 "cells": [
  {
   "cell_type": "markdown",
   "metadata": {},
   "source": [
    "# Hamlet\n",
    "Hem dosya işlemlerini, hem de dizeleri tekrar etmenin en güzel yolu bir metni incelemek. Bu uygulama için **Shakespeare**'in meşhur romanı _Hamlet_ biçilmiş kaftan.\n",
    "\n",
    "Önce dosyayı açalım."
   ]
  },
  {
   "cell_type": "code",
   "execution_count": 1,
   "metadata": {
    "collapsed": true
   },
   "outputs": [],
   "source": [
    "with open('veri/hamlet_shakespeare.txt', 'r') as okunandosya:\n",
    "    metin = okunandosya.read()"
   ]
  },
  {
   "cell_type": "markdown",
   "metadata": {},
   "source": [
    "İçerik doğru gelmiş mi bir kontrol etmekte fayda var."
   ]
  },
  {
   "cell_type": "code",
   "execution_count": 2,
   "metadata": {
    "collapsed": false
   },
   "outputs": [
    {
     "name": "stdout",
     "output_type": "stream",
     "text": [
      "The Tragedie of Hamlet\n",
      "by\n",
      "William Shakespeare 1599\n"
     ]
    }
   ],
   "source": [
    "print metin[0:50]"
   ]
  },
  {
   "cell_type": "markdown",
   "metadata": {},
   "source": [
    "Güzel! Dosyayı okumakta bir problem çıkmadı. Aklımda birkaç soru var:\n",
    "1. Acaba Hamlet'te kaç kelime vardır?\n",
    "2. Ortalama kelime uzunluğu nedir?\n",
    "3. En uzun kelime kaç harfli?\n",
    "4. Ya en sık kullanılan kelimeler?\n",
    "\n",
    "Önce metni kelimelere ayırmalı. Bunun için çok kullanışlı bir fonksiyon var: *split*. Türkçe karşılığı \"ayırmak\". Bu fonksiyon boşlukları atıp, kelimelerden oluşan bir çokuz oluşturuyor."
   ]
  },
  {
   "cell_type": "code",
   "execution_count": 3,
   "metadata": {
    "collapsed": true
   },
   "outputs": [],
   "source": [
    "kelime_cokuzu = metin.split()"
   ]
  },
  {
   "cell_type": "code",
   "execution_count": 5,
   "metadata": {
    "collapsed": false
   },
   "outputs": [
    {
     "data": {
      "text/plain": [
       "['The', 'Tragedie', 'of', 'Hamlet']"
      ]
     },
     "execution_count": 5,
     "metadata": {},
     "output_type": "execute_result"
    }
   ],
   "source": [
    "kelime_cokuzu[0:4]"
   ]
  },
  {
   "cell_type": "markdown",
   "metadata": {},
   "source": [
    "Ufak bir sorun var. Bazı kelimeler büyük harflerle, bazıları ise küçük harflerle yazılmış. Kelimeleri sayarken bu bize sorun yaratabilir. İyisi mi her kelimeyi küçük harfe çevirelim. Python'da herhangi bir dizeyi kuçuk harflere çevirmek için *lower* fonksiyonu kullanılabilir."
   ]
  },
  {
   "cell_type": "code",
   "execution_count": 6,
   "metadata": {
    "collapsed": false
   },
   "outputs": [
    {
     "name": "stdout",
     "output_type": "stream",
     "text": [
      "Barnardo.\n",
      "barnardo.\n"
     ]
    }
   ],
   "source": [
    "print kelime_cokuzu[18]\n",
    "print kelime_cokuzu[18].lower()"
   ]
  },
  {
   "cell_type": "markdown",
   "metadata": {},
   "source": [
    "Öyle ya! Noktalama işaretlerini unuttuk. Neyse ki Python'da bunun da çaresi var. Hem de birkaç tane. En etkilisi olmasa da basit bir çözüm *strip* fonksiyonunu kullanmak. Bu fonksiyon ile dizelerin içindeki tüm noktalama işaretlerini temizleyebiliriz."
   ]
  },
  {
   "cell_type": "code",
   "execution_count": 7,
   "metadata": {
    "collapsed": false
   },
   "outputs": [
    {
     "data": {
      "text/plain": [
       "'Barnardo'"
      ]
     },
     "execution_count": 7,
     "metadata": {},
     "output_type": "execute_result"
    }
   ],
   "source": [
    "kelime_cokuzu[18].strip(',.?!;:')"
   ]
  },
  {
   "cell_type": "markdown",
   "metadata": {},
   "source": [
    "İki fonksiyonu birleştirip, kelime çokuzunu baştan doldurabiliriz."
   ]
  },
  {
   "cell_type": "code",
   "execution_count": 8,
   "metadata": {
    "collapsed": true
   },
   "outputs": [],
   "source": [
    "kelime_cokuzu = [kelime.lower().strip(',.?!;:') for kelime in kelime_cokuzu]"
   ]
  },
  {
   "cell_type": "code",
   "execution_count": 9,
   "metadata": {
    "collapsed": false
   },
   "outputs": [
    {
     "name": "stdout",
     "output_type": "stream",
     "text": [
      "barnardo\n"
     ]
    }
   ],
   "source": [
    "print kelime_cokuzu[18]"
   ]
  },
  {
   "cell_type": "markdown",
   "metadata": {},
   "source": [
    "Hah, şimdi oldu. Artık ilk soruya bir cevap verebiliriz. Hamlet'te kaç kelime olduğuna bakmak için kelime çokuzunun uzunluğuna bakmamız yeterli."
   ]
  },
  {
   "cell_type": "code",
   "execution_count": 10,
   "metadata": {
    "collapsed": false
   },
   "outputs": [
    {
     "name": "stdout",
     "output_type": "stream",
     "text": [
      "29713\n"
     ]
    }
   ],
   "source": [
    "print len(kelime_cokuzu)"
   ]
  },
  {
   "cell_type": "markdown",
   "metadata": {},
   "source": [
    "İlk soru tamam. Kelimelerin uzunluklarıyla oynayacaksak, uzunlukları bir çokuza doldurmak işimize yarayabilir."
   ]
  },
  {
   "cell_type": "code",
   "execution_count": 11,
   "metadata": {
    "collapsed": false
   },
   "outputs": [],
   "source": [
    "uzunluklar = [len(kelime) for kelime in kelime_cokuzu]"
   ]
  },
  {
   "cell_type": "code",
   "execution_count": 12,
   "metadata": {
    "collapsed": false
   },
   "outputs": [
    {
     "data": {
      "text/plain": [
       "[3, 8, 2, 6]"
      ]
     },
     "execution_count": 12,
     "metadata": {},
     "output_type": "execute_result"
    }
   ],
   "source": [
    "uzunluklar[0:4]"
   ]
  },
  {
   "cell_type": "markdown",
   "metadata": {},
   "source": [
    "Toplam kelime uzunluğunu bulmak için *sum* fonksiyonu işimizi görecektir. Ortalamayı da aynı anda hesaplayabiliriz."
   ]
  },
  {
   "cell_type": "code",
   "execution_count": 13,
   "metadata": {
    "collapsed": false
   },
   "outputs": [
    {
     "name": "stdout",
     "output_type": "stream",
     "text": [
      "4\n"
     ]
    }
   ],
   "source": [
    "ort_uzunluk = sum(uzunluklar)/len(uzunluklar)\n",
    "print ort_uzunluk"
   ]
  },
  {
   "cell_type": "markdown",
   "metadata": {},
   "source": [
    "Tam sayılı bölme yapınca, sonuç da tam sayılı oldu. Bölmeyi yaparken sayılardan en azından birini sürekli bir sayıya çevirmek iyi olacak."
   ]
  },
  {
   "cell_type": "code",
   "execution_count": 14,
   "metadata": {
    "collapsed": false
   },
   "outputs": [
    {
     "name": "stdout",
     "output_type": "stream",
     "text": [
      "4.14532359573\n"
     ]
    }
   ],
   "source": [
    "ort_uzunluk = sum(uzunluklar)/float(len(uzunluklar))\n",
    "print ort_uzunluk"
   ]
  },
  {
   "cell_type": "markdown",
   "metadata": {},
   "source": [
    "Ortalama kelime uzunluğunu bulduk. En uzun kelimeyi bulmak için de bu çokuzu sıralamak yetecek. Sıralamak için *sort* fonksiyonunu kullanabiliriz."
   ]
  },
  {
   "cell_type": "code",
   "execution_count": 15,
   "metadata": {
    "collapsed": false
   },
   "outputs": [],
   "source": [
    "uzunluklar.sort()"
   ]
  },
  {
   "cell_type": "code",
   "execution_count": 16,
   "metadata": {
    "collapsed": false
   },
   "outputs": [
    {
     "data": {
      "text/plain": [
       "[1, 1, 1, 1, 1, 1, 1, 1, 1]"
      ]
     },
     "execution_count": 16,
     "metadata": {},
     "output_type": "execute_result"
    }
   ],
   "source": [
    "uzunluklar[0:9]"
   ]
  },
  {
   "cell_type": "markdown",
   "metadata": {},
   "source": [
    "Olmadı. Sıralamayı küçükten büyüğe yapıyor. Çokuzun en son elemanına bakabiliriz. Onun yerine, sıralamayı ters yönde yapmak da bir seçenek."
   ]
  },
  {
   "cell_type": "code",
   "execution_count": 17,
   "metadata": {
    "collapsed": true
   },
   "outputs": [],
   "source": [
    "uzunluklar.sort(reverse=True)"
   ]
  },
  {
   "cell_type": "code",
   "execution_count": 18,
   "metadata": {
    "collapsed": false
   },
   "outputs": [
    {
     "data": {
      "text/plain": [
       "[14, 14, 14, 13, 13, 13, 13, 13, 13]"
      ]
     },
     "execution_count": 18,
     "metadata": {},
     "output_type": "execute_result"
    }
   ],
   "source": [
    "uzunluklar[0:9]"
   ]
  },
  {
   "cell_type": "markdown",
   "metadata": {},
   "source": [
    "Bulduk gibi. Ancak ufak bir sorun var. Aynı kelime birkaç kez geçiyorsa bu listeye giriyor. Yani 13 harften oluşan kelime metinin içinde kaç kez geçtiyse her biri bu listede yer alıyor."
   ]
  },
  {
   "cell_type": "code",
   "execution_count": 19,
   "metadata": {
    "collapsed": false
   },
   "outputs": [
    {
     "name": "stdout",
     "output_type": "stream",
     "text": [
      "instrumentall stubbornnesse vnderstanding vnderstanding circumscrib'd entertainment imperfections incontinencie guildensterne guildensterne vnderstanding guildensterne guildensterne circumstances guildensterne guildensterne entertainment entertainment guildensterne determination indifferently guildensterne guildensterne guildensterne guildensterne guildensterne guildensterne guildensterne guildensterne recognizances guildensterne reconcilement guildensterne\n"
     ]
    }
   ],
   "source": [
    "for kelime in kelime_cokuzu:\n",
    "    if (len(kelime) == 13):\n",
    "        print kelime, "
   ]
  },
  {
   "cell_type": "markdown",
   "metadata": {},
   "source": [
    "Hedefimiz en uzun kelimeyi ya da kelimeleri bulmaktı. Bir üst kod satırında 13 yerine 14 yazmak bu sonucu elde etmek için yeterli. Eğer aynı kelimelerin sadece bir kez sayılmasında ısrar edersek çokuzdan, kümeye geçmek kestirme bir yol."
   ]
  },
  {
   "cell_type": "code",
   "execution_count": 20,
   "metadata": {
    "collapsed": true
   },
   "outputs": [],
   "source": [
    "kelime_kumesi = set(kelime_cokuzu)"
   ]
  },
  {
   "cell_type": "code",
   "execution_count": 21,
   "metadata": {
    "collapsed": false
   },
   "outputs": [
    {
     "data": {
      "text/plain": [
       "4872"
      ]
     },
     "execution_count": 21,
     "metadata": {},
     "output_type": "execute_result"
    }
   ],
   "source": [
    "len(kelime_kumesi)"
   ]
  },
  {
   "cell_type": "markdown",
   "metadata": {},
   "source": [
    "İlk bakışta Shakespeare'in çok zengin bir kelime haznesi var gibi duruyor: 29713 kelimelik oyunda, 4872 _farklı_ kelime kullanmıl. Ancak bulduğumuz sonuç maalesef doğru değil. Çünkü kelimelerin çekimli halleri de bu listenin içinde yer alıyor. Bununla başa çıkmak için kelimelerin köklerine bakmak gerekir. Biraz daha karışık bir iş. Dağılmayalım. \n",
    "\n",
    "Baştaki dört soruya da cevap verdik. Ancak şu sorunun cevabını hala bilmiyoruz: \"Uzunluğu sekiz olan kelimeler hangileri?\" Hatta sadece sekiz değil; 14'e kadar tüm uzunluklara bakabiliriz. Bu iş için sözlük veri yapısını kullanmak fena bir fikir olmayabilir."
   ]
  },
  {
   "cell_type": "code",
   "execution_count": 22,
   "metadata": {
    "collapsed": false
   },
   "outputs": [],
   "source": [
    "kelime_cantasi = {}\n",
    "for kelime in kelime_cokuzu:\n",
    "    uzunluk = len(kelime)\n",
    "    if uzunluk in kelime_cantasi.keys():\n",
    "        kelime_cantasi[uzunluk].append(kelime)\n",
    "    else:\n",
    "        kelime_cantasi[uzunluk] = []\n",
    "        kelime_cantasi[uzunluk].append(kelime)"
   ]
  },
  {
   "cell_type": "code",
   "execution_count": 23,
   "metadata": {
    "collapsed": false
   },
   "outputs": [
    {
     "name": "stdout",
     "output_type": "stream",
     "text": [
      "[\"vnproportion'd\", 'encompassement', 'transformation']\n"
     ]
    }
   ],
   "source": [
    "print kelime_cantasi[14]"
   ]
  },
  {
   "cell_type": "markdown",
   "metadata": {},
   "source": [
    "Şimdi bir tablo ile her uzunluktan kaç tane kelime olduğuna bakabilriz."
   ]
  },
  {
   "cell_type": "code",
   "execution_count": 24,
   "metadata": {
    "collapsed": false
   },
   "outputs": [
    {
     "name": "stdout",
     "output_type": "stream",
     "text": [
      "1 harfli kelimelerin sayısı: 1118\n",
      "2 harfli kelimelerin sayısı: 5222\n",
      "3 harfli kelimelerin sayısı: 6835\n",
      "4 harfli kelimelerin sayısı: 6214\n",
      "5 harfli kelimelerin sayısı: 3806\n",
      "6 harfli kelimelerin sayısı: 2650\n",
      "7 harfli kelimelerin sayısı: 1675\n",
      "8 harfli kelimelerin sayısı: 1058\n",
      "9 harfli kelimelerin sayısı: 583\n",
      "10 harfli kelimelerin sayısı: 319\n",
      "11 harfli kelimelerin sayısı: 144\n",
      "12 harfli kelimelerin sayısı: 53\n",
      "13 harfli kelimelerin sayısı: 33\n",
      "14 harfli kelimelerin sayısı: 3\n"
     ]
    }
   ],
   "source": [
    "harf_sayilari = []\n",
    "for i in range(1, len(kelime_cantasi)+1):\n",
    "    harf_sayisi = len(kelime_cantasi[i])\n",
    "    harf_sayilari.append(harf_sayisi)\n",
    "    print str(i) + ' harfli kelimelerin sayısı: ' + str(harf_sayisi)"
   ]
  },
  {
   "cell_type": "markdown",
   "metadata": {},
   "source": [
    "Hatta bir adım daha ileri gidip, grafiğini bile çizebiliriz."
   ]
  },
  {
   "cell_type": "code",
   "execution_count": 34,
   "metadata": {
    "collapsed": false
   },
   "outputs": [
    {
     "data": {
      "image/png": "[encoded data removed]",
      "text/plain": [
       "<matplotlib.figure.Figure at 0x10f220250>"
      ]
     },
     "metadata": {},
     "output_type": "display_data"
    }
   ],
   "source": [
    "%matplotlib inline\n",
    "import matplotlib.pyplot as plt\n",
    "plt.plot(range(1, len(kelime_cantasi)+1), harf_sayilari, 'ro')\n",
    "plt.xlabel('Uzunluk')\n",
    "plt.ylabel('Frekans')\n",
    "plt.title('Hamlet Oyunundaki Kelimeler')\n",
    "plt.grid(True)"
   ]
  },
  {
   "cell_type": "code",
   "execution_count": null,
   "metadata": {
    "collapsed": true
   },
   "outputs": [],
   "source": []
  }
 ],
 "metadata": {
  "kernelspec": {
   "display_name": "Python 2",
   "language": "python",
   "name": "python2"
  },
  "language_info": {
   "codemirror_mode": {
    "name": "ipython",
    "version": 2
   },
   "file_extension": ".py",
   "mimetype": "text/x-python",
   "name": "python",
   "nbconvert_exporter": "python",
   "pygments_lexer": "ipython2",
   "version": "2.7.9"
  }
 },
 "nbformat": 4,
 "nbformat_minor": 0
}

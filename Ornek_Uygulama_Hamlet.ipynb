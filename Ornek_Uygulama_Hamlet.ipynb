{
 "cells": [
  {
   "cell_type": "markdown",
   "metadata": {},
   "source": [
    "# Moby Dick\n",
    "Hem dosya işelmlerini, hem de dizeleri tekrar etmenin en güzel yolu bir metni incelemek. Bu uygulama için **Herman Melville**'in meşhur romanı _Moby Dick_ tam biçilmiş kaftan. \n",
    "\n",
    "Önce dosyayı açalım."
   ]
  },
  {
   "cell_type": "code",
   "execution_count": 180,
   "metadata": {
    "collapsed": true
   },
   "outputs": [],
   "source": [
    "with open(\"veri/moby_dick_melville.txt\", 'r') as okunandosya:\n",
    "    metin = okunandosya.read()"
   ]
  },
  {
   "cell_type": "markdown",
   "metadata": {},
   "source": [
    "İçerik doğru gelmiş mi bir kontrol etmekte fayda var."
   ]
  },
  {
   "cell_type": "code",
   "execution_count": 181,
   "metadata": {
    "collapsed": false
   },
   "outputs": [
    {
     "name": "stdout",
     "output_type": "stream",
     "text": [
      "\n",
      "Kaptan Gardiner hala kaybolan oğlunu arıyordu. Şans eseri de beni buldu.\n",
      "\n",
      "\n",
      "\n",
      "\n",
      "\n",
      "\n"
     ]
    }
   ],
   "source": [
    "print metin[-83:-1]"
   ]
  },
  {
   "cell_type": "code",
   "execution_count": 182,
   "metadata": {
    "collapsed": false
   },
   "outputs": [
    {
     "name": "stdout",
     "output_type": "stream",
     "text": [
      "MOBY DICK\n",
      "\n",
      "Herman Melville\n",
      "\n",
      "\n",
      "\n",
      "\n",
      "\n",
      "ZIPKINCI QUEEQUEG\n",
      "\n"
     ]
    }
   ],
   "source": [
    "print metin[0:50]"
   ]
  },
  {
   "cell_type": "markdown",
   "metadata": {},
   "source": [
    "Güzel! Dosyayı okumakta bir problem çıkmadı. Aklımda birkaç soru var:\n",
    "1. Acaba Moby Dick'te kaç kelime vardır?\n",
    "2. Ortalama kelime uzunluğu nedir?\n",
    "3. En uzun kelime kaç harfli?\n",
    "4. Ya en sık kullanılan kelimeler?\n",
    "\n",
    "Önce metni kelimelere ayırmalı. Bunun için çok kullanışlı bir fonksiyon var: **split**. Türkçe karşılığı **ayır**. Bu fonksiyon boşlukları atıp, kelimelerden oluşan bir çokuz oluşturuyor."
   ]
  },
  {
   "cell_type": "code",
   "execution_count": 183,
   "metadata": {
    "collapsed": true
   },
   "outputs": [],
   "source": [
    "kelime_cokuzu = metin.split()"
   ]
  },
  {
   "cell_type": "code",
   "execution_count": 187,
   "metadata": {
    "collapsed": false
   },
   "outputs": [
    {
     "data": {
      "text/plain": [
       "['MOBY', 'DICK', 'Herman', 'Melville']"
      ]
     },
     "execution_count": 187,
     "metadata": {},
     "output_type": "execute_result"
    }
   ],
   "source": [
    "kelime_cokuzu[0:4]"
   ]
  },
  {
   "cell_type": "markdown",
   "metadata": {},
   "source": [
    "Ufak bir sorun var. Bazı kelimeler büyük harflerle, bazıları ise küçük harflerle yazılmış. Kelimeleri sayarken bu bize sorun yaratabilir. İyisi mi her kelimeyi küçük harfe çevirelim. Python'da herhangi bir dizeyi kuçuk harflere çevirmek için **lower** fonksiyonu kullanılabilir."
   ]
  },
  {
   "cell_type": "code",
   "execution_count": 189,
   "metadata": {
    "collapsed": false
   },
   "outputs": [
    {
     "data": {
      "text/plain": [
       "'gittim.'"
      ]
     },
     "execution_count": 189,
     "metadata": {},
     "output_type": "execute_result"
    }
   ],
   "source": [
    "kelime_cokuzu[180].lower()"
   ]
  },
  {
   "cell_type": "markdown",
   "metadata": {},
   "source": [
    "Öyle ya! Noktalama işaretlerini unuttuk. Neyse ki Python'da bunun da çaresi var. Hem de birkaç tane. En etkili olmasa da basit bir çözüm *stri* fonksiyonunu kullanmak. Bu fonksiyon ile dizelerin içindeki tüm noktalama işaretlerini temizleyebiliriz."
   ]
  },
  {
   "cell_type": "code",
   "execution_count": 157,
   "metadata": {
    "collapsed": false
   },
   "outputs": [
    {
     "data": {
      "text/plain": [
       "'gittim'"
      ]
     },
     "execution_count": 157,
     "metadata": {},
     "output_type": "execute_result"
    }
   ],
   "source": [
    "kelime_cokuzu[180].strip(',.!;”“\\'-')"
   ]
  },
  {
   "cell_type": "markdown",
   "metadata": {},
   "source": [
    "İki fonksiyonu birleştirip, kelime çokuzunu baştan doldurabiliriz."
   ]
  },
  {
   "cell_type": "code",
   "execution_count": 158,
   "metadata": {
    "collapsed": true
   },
   "outputs": [],
   "source": [
    "kelime_cokuzu = [kelime.lower().strip(',.!;”“\\'-') for kelime in kelime_cokuzu]"
   ]
  },
  {
   "cell_type": "code",
   "execution_count": 159,
   "metadata": {
    "collapsed": false
   },
   "outputs": [
    {
     "name": "stdout",
     "output_type": "stream",
     "text": [
      "['moby', 'dick', 'herman', 'melville']\n",
      "gittim\n"
     ]
    }
   ],
   "source": [
    "print kelime_cokuzu[0:4]\n",
    "print kelime_cokuzu[180]"
   ]
  },
  {
   "cell_type": "markdown",
   "metadata": {},
   "source": [
    "Hah, şimdi oldu. Artık ilk soruya bir cevap verebiliriz. Moby Dick'de kaç kelime olduğuna bakmak için **kelime_cokuzu** isimli verinin uzunluğuna bakmamız yeterli."
   ]
  },
  {
   "cell_type": "code",
   "execution_count": 195,
   "metadata": {
    "collapsed": false
   },
   "outputs": [
    {
     "name": "stdout",
     "output_type": "stream",
     "text": [
      "16198\n"
     ]
    }
   ],
   "source": [
    "print len(kelime_cokuzu)"
   ]
  },
  {
   "cell_type": "markdown",
   "metadata": {},
   "source": [
    "İlk soru tamam. Kelimelerin uzunluklarıyla oynayacaksak, uzunlukları bir çokuza doldurmak işimize yarayabilir. Ancak burada Türkçe'den dolayı uzunlukların yanlış hesaplanması sorunu var."
   ]
  },
  {
   "cell_type": "code",
   "execution_count": 161,
   "metadata": {
    "collapsed": false
   },
   "outputs": [],
   "source": [
    "uzunluklar = [len(kelime) for kelime in kelime_cokuzu]"
   ]
  },
  {
   "cell_type": "code",
   "execution_count": 162,
   "metadata": {
    "collapsed": false
   },
   "outputs": [
    {
     "data": {
      "text/plain": [
       "[4, 4, 6, 8]"
      ]
     },
     "execution_count": 162,
     "metadata": {},
     "output_type": "execute_result"
    }
   ],
   "source": [
    "uzunluklar[0:4]"
   ]
  },
  {
   "cell_type": "markdown",
   "metadata": {},
   "source": [
    "Toplam kelime uzunluğunu bulmak için *sum* (İng. toplam) fonksiyonu işimizi görecektir. Ortalamayı da aynı anda hesaplayabiliriz."
   ]
  },
  {
   "cell_type": "code",
   "execution_count": 164,
   "metadata": {
    "collapsed": false
   },
   "outputs": [
    {
     "name": "stdout",
     "output_type": "stream",
     "text": [
      "6\n"
     ]
    }
   ],
   "source": [
    "ort_uzunluk = sum(uzunluklar)/len(uzunluklar)\n",
    "print ort_uzunluk"
   ]
  },
  {
   "cell_type": "markdown",
   "metadata": {},
   "source": [
    "Tam sayılı bölme yapınca, sonuç da tam sayılı oldu. Bölmeyi yaparken sayılardan en azından birini sürekli bir sayıya çevirmek iyi olacak."
   ]
  },
  {
   "cell_type": "code",
   "execution_count": 165,
   "metadata": {
    "collapsed": false
   },
   "outputs": [
    {
     "name": "stdout",
     "output_type": "stream",
     "text": [
      "6.88831954562\n"
     ]
    }
   ],
   "source": [
    "ort_uzunluk = sum(uzunluklar)/float(len(uzunluklar))\n",
    "print ort_uzunluk"
   ]
  },
  {
   "cell_type": "markdown",
   "metadata": {},
   "source": [
    "Ortalama kelime uzunluğunu bulduk. En uzun kelimeyi bulmak için de bu çokuzu sıralamak yetecek. Sıralamak için *sort* fonksiyonunu kullanabiliriz."
   ]
  },
  {
   "cell_type": "code",
   "execution_count": 166,
   "metadata": {
    "collapsed": false
   },
   "outputs": [],
   "source": [
    "uzunluklar.sort()"
   ]
  },
  {
   "cell_type": "code",
   "execution_count": 167,
   "metadata": {
    "collapsed": false
   },
   "outputs": [
    {
     "data": {
      "text/plain": [
       "[1, 1, 1, 1, 1, 1, 1, 1, 1]"
      ]
     },
     "execution_count": 167,
     "metadata": {},
     "output_type": "execute_result"
    }
   ],
   "source": [
    "uzunluklar[0:9]"
   ]
  },
  {
   "cell_type": "markdown",
   "metadata": {},
   "source": [
    "Olmadı. Sıralamayı küçükten büyüğe yapıyor. Çokuzun en son elemanına bakabiliriz. Onun yerine, sıralamayı ters yönde yapmak da bir seçenek."
   ]
  },
  {
   "cell_type": "code",
   "execution_count": 168,
   "metadata": {
    "collapsed": true
   },
   "outputs": [],
   "source": [
    "uzunluklar.sort(reverse=True)"
   ]
  },
  {
   "cell_type": "code",
   "execution_count": 169,
   "metadata": {
    "collapsed": false
   },
   "outputs": [
    {
     "data": {
      "text/plain": [
       "[22, 22, 22, 22, 22, 22, 21, 21, 21]"
      ]
     },
     "execution_count": 169,
     "metadata": {},
     "output_type": "execute_result"
    }
   ],
   "source": [
    "uzunluklar[0:9]"
   ]
  },
  {
   "cell_type": "markdown",
   "metadata": {},
   "source": [
    "Bulduk gibi. Ancak ufak bir sorun var. Aynı kelime birkaç kez geçiyorsa bu listeye giriyor. Yani 22 harften oluşan kelime metinin içinde dört kez geçtiyse her biri bu listede gözüküyor. O zaman en uzun 10 kelimeyi bu şekilde göremiyoruz; bunların bazıları aynı kelimeler. Aslına bakarsanız Melville'in kaç farklı kelime kullandığına da bakabiliriz."
   ]
  },
  {
   "cell_type": "code",
   "execution_count": 170,
   "metadata": {
    "collapsed": true
   },
   "outputs": [],
   "source": [
    "kelime_kumesi = set(kelime_cokuzu)"
   ]
  },
  {
   "cell_type": "code",
   "execution_count": 171,
   "metadata": {
    "collapsed": false
   },
   "outputs": [
    {
     "data": {
      "text/plain": [
       "4880"
      ]
     },
     "execution_count": 171,
     "metadata": {},
     "output_type": "execute_result"
    }
   ],
   "source": [
    "len(kelime_kumesi)"
   ]
  },
  {
   "cell_type": "markdown",
   "metadata": {},
   "source": [
    "İlk bakışta çok zengin bir kelime haznesi var gibi duruyor. Ancak bu pek de doğru değil. Çünkü Türkçe faktörünü unuttuk. Türkçe sondan eklemeli bir dil. Yani \"kitap\", \"kitabı\" ya da \"kitapta\" gibi kelimelerin hepsi aynı kelimenin farklı halleri. Bununla başa çıkmak için kelimelerin köklerine inmek gerekir. Biraz daha karışık bir iş. Dağılmayalım. \n",
    "\n",
    "Hedefimiz 22 harfli o dev kelimeyi ya da kelimeleri bulmak. Önce hızlı bir çözüm deneyelim:"
   ]
  },
  {
   "cell_type": "code",
   "execution_count": 191,
   "metadata": {
    "collapsed": false
   },
   "outputs": [
    {
     "name": "stdout",
     "output_type": "stream",
     "text": [
      "acıkmışsındır.”\n",
      "paylaşmayacağım,”\n",
      "imkansızlaşmıştı.\n",
      "karşılaşacağımız\n",
      "karşılaştığımız\n",
      "boşaltacaksınız?”\n",
      "karşılaştığımız\n",
      "karşılaştınız?”\n",
      "heyecanlandırıyordu.\n",
      "ulaşılamayacağını\n",
      "imkansızlaşmıştı.\n",
      "karşılaştığımız\n"
     ]
    }
   ],
   "source": [
    "for kelime in kelime_cokuzu:\n",
    "    if len(kelime) == 22:\n",
    "        print kelime"
   ]
  },
  {
   "cell_type": "code",
   "execution_count": 178,
   "metadata": {
    "collapsed": false
   },
   "outputs": [
    {
     "data": {
      "text/plain": [
       "15"
      ]
     },
     "execution_count": 178,
     "metadata": {},
     "output_type": "execute_result"
    }
   ],
   "source": [
    "len(u'karşılaştığımız')"
   ]
  },
  {
   "cell_type": "code",
   "execution_count": 177,
   "metadata": {
    "collapsed": false
   },
   "outputs": [
    {
     "ename": "SyntaxError",
     "evalue": "EOL while scanning string literal (<ipython-input-177-528f44f052ba>, line 1)",
     "output_type": "error",
     "traceback": [
      "\u001b[0;36m  File \u001b[0;32m\"<ipython-input-177-528f44f052ba>\"\u001b[0;36m, line \u001b[0;32m1\u001b[0m\n\u001b[0;31m    a = u'\"karşılaştığımız\"\u001b[0m\n\u001b[0m                           \n^\u001b[0m\n\u001b[0;31mSyntaxError\u001b[0m\u001b[0;31m:\u001b[0m EOL while scanning string literal\n"
     ]
    }
   ],
   "source": [
    "a = u'\"karşılaştığımız\""
   ]
  },
  {
   "cell_type": "code",
   "execution_count": 176,
   "metadata": {
    "collapsed": false
   },
   "outputs": [
    {
     "ename": "SyntaxError",
     "evalue": "EOL while scanning string literal (<ipython-input-176-1f93be37a9a7>, line 1)",
     "output_type": "error",
     "traceback": [
      "\u001b[0;36m  File \u001b[0;32m\"<ipython-input-176-1f93be37a9a7>\"\u001b[0;36m, line \u001b[0;32m1\u001b[0m\n\u001b[0;31m    u'a\u001b[0m\n\u001b[0m      ^\u001b[0m\n\u001b[0;31mSyntaxError\u001b[0m\u001b[0;31m:\u001b[0m EOL while scanning string literal\n"
     ]
    }
   ],
   "source": []
  },
  {
   "cell_type": "code",
   "execution_count": null,
   "metadata": {
    "collapsed": true
   },
   "outputs": [],
   "source": []
  }
 ],
 "metadata": {
  "kernelspec": {
   "display_name": "Python 2",
   "language": "python",
   "name": "python2"
  },
  "language_info": {
   "codemirror_mode": {
    "name": "ipython",
    "version": 2
   },
   "file_extension": ".py",
   "mimetype": "text/x-python",
   "name": "python",
   "nbconvert_exporter": "python",
   "pygments_lexer": "ipython2",
   "version": "2.7.9"
  }
 },
 "nbformat": 4,
 "nbformat_minor": 0
}

{
 "cells": [
  {
   "cell_type": "markdown",
   "metadata": {},
   "source": [
    "# Programlamaya Giriş\n",
    "_Burada, bu derste sadece Python'a hızlı bir giriş yapacağımızı ilerleleyen dersler ve uygulamalar ile Python programlama dilinin ayrıntılarına gireceğimizi söyleyebiliriz. Ayrıca neden Python'u seçtiğimizi de anlatabiliriz._\n",
    "\n",
    "Python'dan seçmece özellikler:\n",
    "* Hesap makinesinden hallice. Kullanması oldukça kolay. Yazılan kodu o esnada denemek mümkün.\n",
    "* İşletim sisteminden bağımsız.\n",
    "* Hesaplama ve görselleştirme kütüphaneleri son derece geniş.\n",
    "* Herhangi bir noktada '#' karakteri ile yazılmaya başlanırsa, satır sonuna kadar yazılanlar Python tarafından dikkate alınmıyor. Daha çok kendimiz için not aldığımızı düşünebiliriz.\n",
    "* Yeşil ile renklendirilmiş sözcükler komutlar. Kütüphaneleri eklemek için birkaç yol var."
   ]
  },
  {
   "cell_type": "code",
   "execution_count": 1,
   "metadata": {
    "collapsed": false
   },
   "outputs": [
    {
     "name": "stdout",
     "output_type": "stream",
     "text": [
      "3.14159265359\n"
     ]
    }
   ],
   "source": [
    "import math # Her kullandığımız nesne (sabitler, fonksiyonlar, vb.) için başına \"math\" yazmak gerekecek.\n",
    "print math.pi"
   ]
  },
  {
   "cell_type": "markdown",
   "metadata": {},
   "source": [
    "* **print** komutu ekrana yazdırmak için kullanılıyor. \n",
    "* Bir diğer yol da \"math\" kütüphanesi içindeki tüm fonksiyonlara başlarına \"math\" yazmadan erişmek olabilir."
   ]
  },
  {
   "cell_type": "code",
   "execution_count": 2,
   "metadata": {
    "collapsed": false
   },
   "outputs": [
    {
     "name": "stdout",
     "output_type": "stream",
     "text": [
      "3.14159265359\n"
     ]
    }
   ],
   "source": [
    "from math import *\n",
    "print pi"
   ]
  },
  {
   "cell_type": "markdown",
   "metadata": {},
   "source": [
    "* Tüm nesneler yerine sadece \"pi\" sabitini ve \"cos\", yani kosinüs, fonksiyonunu programımıza eklemek isteyebiliriz."
   ]
  },
  {
   "cell_type": "code",
   "execution_count": 6,
   "metadata": {
    "collapsed": false
   },
   "outputs": [
    {
     "name": "stdout",
     "output_type": "stream",
     "text": [
      "-1.0\n"
     ]
    }
   ],
   "source": [
    "from math import pi, cos\n",
    "print cos(pi)"
   ]
  },
  {
   "cell_type": "markdown",
   "metadata": {},
   "source": [
    "* **dir** komutu yardımıyla bir kütüphanenin içindeki tüm fonksiyonlara bakmak mümkün."
   ]
  },
  {
   "cell_type": "code",
   "execution_count": 7,
   "metadata": {
    "collapsed": true
   },
   "outputs": [
    {
     "data": {
      "text/plain": [
       "['__doc__',\n",
       " '__file__',\n",
       " '__name__',\n",
       " '__package__',\n",
       " 'acos',\n",
       " 'acosh',\n",
       " 'asin',\n",
       " 'asinh',\n",
       " 'atan',\n",
       " 'atan2',\n",
       " 'atanh',\n",
       " 'ceil',\n",
       " 'copysign',\n",
       " 'cos',\n",
       " 'cosh',\n",
       " 'degrees',\n",
       " 'e',\n",
       " 'erf',\n",
       " 'erfc',\n",
       " 'exp',\n",
       " 'expm1',\n",
       " 'fabs',\n",
       " 'factorial',\n",
       " 'floor',\n",
       " 'fmod',\n",
       " 'frexp',\n",
       " 'fsum',\n",
       " 'gamma',\n",
       " 'hypot',\n",
       " 'isinf',\n",
       " 'isnan',\n",
       " 'ldexp',\n",
       " 'lgamma',\n",
       " 'log',\n",
       " 'log10',\n",
       " 'log1p',\n",
       " 'modf',\n",
       " 'pi',\n",
       " 'pow',\n",
       " 'radians',\n",
       " 'sin',\n",
       " 'sinh',\n",
       " 'sqrt',\n",
       " 'tan',\n",
       " 'tanh',\n",
       " 'trunc']"
      ]
     },
     "execution_count": 7,
     "metadata": {},
     "output_type": "execute_result"
    }
   ],
   "source": [
    "dir(math)"
   ]
  },
  {
   "cell_type": "markdown",
   "metadata": {},
   "source": [
    "* Asıl önemli kısmı unuttuk. Herhangi bir nesne hakkında yardım almak istersek birkaç yol var."
   ]
  },
  {
   "cell_type": "code",
   "execution_count": 11,
   "metadata": {
    "collapsed": false
   },
   "outputs": [
    {
     "name": "stdout",
     "output_type": "stream",
     "text": [
      "Help on built-in function cos in module math:\n",
      "\n",
      "cos(...)\n",
      "    cos(x)\n",
      "    \n",
      "    Return the cosine of x (measured in radians).\n",
      "\n"
     ]
    }
   ],
   "source": [
    "help(math.cos)"
   ]
  },
  {
   "cell_type": "markdown",
   "metadata": {},
   "source": [
    "Bundan sonra anlatılacaklar listesi.\n",
    "1. \"Tab\" ile komut tamamlama.\n",
    "2. Veri tipleri:\n",
    "    * Str, unicode\n",
    "    * int, float, long\n",
    "    * bool, False, True, None\n",
    "    * Veri tipi geçişleri\n",
    "3. Karakter dizileri ve birkaç komut:\n",
    "    * len, replace, split, +\n",
    "    * Dilimleme\n",
    "4. Merhaba Dünya!\n",
    "```python\n",
    "isim = \"Ali\"\n",
    "s = math.cos(math.pi)\n",
    "msg = 'Merhaba ' + isim + '!'\n",
    "print msg\n",
    "r = \"pi\"\n",
    "print 'cos(', r, ') = ', s\n",
    "```\n",
    "5. **tuple** (Türkçesi?)\n",
    "6. Listeler (**list**)\n",
    "7. Liste oluşturma (**range**)\n",
    "8. Sözlükler (**dictionary**)\n",
    "9. Kümeler (**set**)\n",
    "10. Kodun basamaklandırılması (_indentation_)\n",
    "11. Akış kontrolü\n",
    "    * **if**, **elif**, **else**\n",
    "    * **for**, **while**\n",
    "    * **break**, **continue**\n",
    "    * **enumerate**, **sorted**, **reversed**, **zip**\n",
    "12. İçlem (_comprehension_)    \n",
    "13. Aykırı durumların kontrolü (_exception handling_)\n",
    "14. Fonksiyonlar\n",
    "    * Parametreler\n",
    "        * Pozisyonu belirli parametreler\n",
    "        * İsmi belirli parametreler\n",
    "    * Geri döndürülen değerler\n",
    "    * Belirsiz sayıda parametre\n",
    "15. Dosya işlemleri\n",
    "    * Açma - kapama\n",
    "    * Metin dosyaları\n",
    "    * CSV\n",
    "    * JSON\n",
    "    * Pickle\n",
    "16. **ÖRNEK UYGULAMA:** \"Moby Dick\" kitabının kelimelerinin sayılması ve \"titanic.csv\" dosyasından birkaç istatistik.\n",
    "17. **numpy** paketine giriş\n",
    "    * Vektörler ve matrisler\n",
    "    * Dizi üretme\n",
    "        * **arrange**\n",
    "        * **linspace**, **logspace**\n",
    "        * **zeros**, **ones**\n",
    "        * **random**, **random.seed**\n",
    "    * Dosyadan okuma ve yazma\n",
    "    * Erişme, dilimleme, filtreleme\n",
    "    * Birkaç matematiksel ifade\n",
    "18. **ÖRNEK UYGULAMA:** 500 rassal noktanın ortalamasına denk gelen noktanın bulunması (ve iki boyutlu graifkte gösterilmesi?)\n",
    "19. **scipy** paketine giriş (?)\n",
    "20. **matplotlib** paketine giriş\n",
    "    * Saçılım grafikleri\n",
    "    * Histogramlar\n",
    "    * Eğriler\n",
    "    * Yan yana grafikler\n",
    "21. **ÖRNEK UYGULAMA:** DİE sayfasından alınacak veri kullanılarak zaman içinde nüfustaki değişimin görselleştirilmesi."
   ]
  },
  {
   "cell_type": "code",
   "execution_count": null,
   "metadata": {
    "collapsed": true
   },
   "outputs": [],
   "source": []
  }
 ],
 "metadata": {
  "kernelspec": {
   "display_name": "Python 2",
   "language": "python",
   "name": "python2"
  },
  "language_info": {
   "codemirror_mode": {
    "name": "ipython",
    "version": 2
   },
   "file_extension": ".py",
   "mimetype": "text/x-python",
   "name": "python",
   "nbconvert_exporter": "python",
   "pygments_lexer": "ipython2",
   "version": "2.7.9"
  }
 },
 "nbformat": 4,
 "nbformat_minor": 0
}

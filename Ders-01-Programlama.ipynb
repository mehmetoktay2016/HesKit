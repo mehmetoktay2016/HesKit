{
 "cells": [
  {
   "cell_type": "markdown",
   "metadata": {},
   "source": [
    "# Programlamaya Giriş\n",
    "Adı üstünde, bu kitap \"hesaplama\" üzerine; konuları işlerken bir yandan da hesap yapacağız. Kaldı ki bu hesaplamaların pek çoğu birkaç adım sürecek. Yani bir hesabın sonucu diğer hesapta kullanılacak. \"Hesap\" dediğimize bakmayın. Bu bazen dört işlem olacak, bazen de bir dosyadaki veriyi okumak olacak. \n",
    "\n",
    "Hâl böyle olunca ufak tefek program yazmamız kaçınılmaz. Aslına bakarsanız bu şekilde bir taşla iki kuş vurmak istiyoruz. Hesaplama öğrenirken programlama da aradan çıksa fena mı olur? \n",
    "\n",
    "## Neden Python?\n",
    "Programlama dilini seçerken farklı seçenekleri konuştuk. Sonunda Python olsun dedik. Pek zor bir karar olmadı. Bir kere Python ücretsiz ve açık kaynak kodlu. Kolayca her bilgisayara yüklenebiliyor. Üstelik bilgisayarın işletim sisteminin Linux, MacOS ya da Windows olması farketmiyor. \n",
    "\n",
    "Bu bölümde Python ile programlamaya sadece bir _giriş_ yapacağız. Temel kullanımı ve sıkça kullanılan komutları işleyeceğiz. Göreceksiniz bölümler ilerledikçe Python ve programlama bilginiz de artacak. Yapacağımız örnekler sayesinde uygulayarak öğrendiklerinizi pekiştireceğinize inanıyoruz. Ancak yine de şunun altını çizmekte fayda var: Amacımız Python öğretmek değil. Eğer ayrıntılarıyla Python öğrenmek isterseniz, bu konuda tonla kaynak bulabilirsniz. Üstelik bu kaynakların önemli bir kısmı da ücretsiz. \n",
    "\n",
    "Eğer Python biliyorsanız doğrudan diğer bölümlere geçebilirsiniz. Gerekirse geri dönersiniz. Fakat biz yine de bu bölüme bir göz atmanızı tavsiye ederiz. \n",
    "\n",
    "Yok eğer ne programlama, ne de Python biliyorsanız o zaman bu bölüm tam size göre. Haydi başlayalım.\n",
    "\n",
    "## Deneme-Yanılma\n",
    "Python uzunca bir süredir hesaplama işleri yapanların tercihi. Diğer diller değil de neden Python? Öncelikle öğrenmesi çok kolay. Hele komut satırının etkileşimli olması büyük avantaj. Hatta hesap makinesinden hallice bile diyebiliriz. Buyurun size dört işlem:"
   ]
  },
  {
   "cell_type": "code",
   "execution_count": 2,
   "metadata": {
    "collapsed": false
   },
   "outputs": [
    {
     "data": {
      "text/plain": [
       "-3.694"
      ]
     },
     "execution_count": 2,
     "metadata": {},
     "output_type": "execute_result"
    }
   ],
   "source": [
    "3 + 2.1*(4.3/5) - 8.5"
   ]
  },
  {
   "cell_type": "markdown",
   "metadata": {},
   "source": [
    "Bu kadar değil tabii. Birazdan göreceğiniz üzere, yazılan her satırın doğrıu çalışıp çalışmadığını aynı şekilde deneyebiliyoruz. Mesela *a*, *b* ve *c* diye üç <font color='red'>değişken</font> tanımlayabiliriz."
   ]
  },
  {
   "cell_type": "code",
   "execution_count": 5,
   "metadata": {
    "collapsed": true
   },
   "outputs": [],
   "source": [
    "a = 3\n",
    "b = 2.3\n",
    "c = 1.7"
   ]
  },
  {
   "cell_type": "markdown",
   "metadata": {},
   "source": [
    "Artık bu üç değişkeni her yerde kullanabiliriz."
   ]
  },
  {
   "cell_type": "code",
   "execution_count": 6,
   "metadata": {
    "collapsed": false
   },
   "outputs": [
    {
     "data": {
      "text/plain": [
       "7.0"
      ]
     },
     "execution_count": 6,
     "metadata": {},
     "output_type": "execute_result"
    }
   ],
   "source": [
    "a + b + c"
   ]
  },
  {
   "cell_type": "markdown",
   "metadata": {},
   "source": [
    "## Paketler"
   ]
  },
  {
   "cell_type": "code",
   "execution_count": 7,
   "metadata": {
    "collapsed": false
   },
   "outputs": [
    {
     "data": {
      "text/plain": [
       "3.141592653589793"
      ]
     },
     "execution_count": 7,
     "metadata": {},
     "output_type": "execute_result"
    }
   ],
   "source": [
    "import math # Her kullandığımız nesne (sabitler, fonksiyonlar, vb.) için başına \"math\" yazmak gerekecek.\n",
    "math.pi"
   ]
  },
  {
   "cell_type": "markdown",
   "metadata": {},
   "source": [
    "* **print** komutu ekrana yazdırmak için kullanılıyor. \n",
    "* Bir diğer yol da \"math\" kütüphanesi içindeki tüm fonksiyonlara başlarına \"math\" yazmadan erişmek olabilir."
   ]
  },
  {
   "cell_type": "code",
   "execution_count": 2,
   "metadata": {
    "collapsed": false
   },
   "outputs": [
    {
     "name": "stdout",
     "output_type": "stream",
     "text": [
      "3.14159265359\n"
     ]
    }
   ],
   "source": [
    "from math import *\n",
    "print pi"
   ]
  },
  {
   "cell_type": "markdown",
   "metadata": {},
   "source": [
    "* Tüm nesneler yerine sadece \"pi\" sabitini ve \"cos\", yani kosinüs, fonksiyonunu programımıza eklemek isteyebiliriz."
   ]
  },
  {
   "cell_type": "code",
   "execution_count": 6,
   "metadata": {
    "collapsed": false
   },
   "outputs": [
    {
     "name": "stdout",
     "output_type": "stream",
     "text": [
      "-1.0\n"
     ]
    }
   ],
   "source": [
    "from math import pi, cos\n",
    "print cos(pi)"
   ]
  },
  {
   "cell_type": "markdown",
   "metadata": {},
   "source": [
    "* **dir** komutu yardımıyla bir kütüphanenin içindeki tüm fonksiyonlara bakmak mümkün."
   ]
  },
  {
   "cell_type": "code",
   "execution_count": 7,
   "metadata": {
    "collapsed": true
   },
   "outputs": [
    {
     "data": {
      "text/plain": [
       "['__doc__',\n",
       " '__file__',\n",
       " '__name__',\n",
       " '__package__',\n",
       " 'acos',\n",
       " 'acosh',\n",
       " 'asin',\n",
       " 'asinh',\n",
       " 'atan',\n",
       " 'atan2',\n",
       " 'atanh',\n",
       " 'ceil',\n",
       " 'copysign',\n",
       " 'cos',\n",
       " 'cosh',\n",
       " 'degrees',\n",
       " 'e',\n",
       " 'erf',\n",
       " 'erfc',\n",
       " 'exp',\n",
       " 'expm1',\n",
       " 'fabs',\n",
       " 'factorial',\n",
       " 'floor',\n",
       " 'fmod',\n",
       " 'frexp',\n",
       " 'fsum',\n",
       " 'gamma',\n",
       " 'hypot',\n",
       " 'isinf',\n",
       " 'isnan',\n",
       " 'ldexp',\n",
       " 'lgamma',\n",
       " 'log',\n",
       " 'log10',\n",
       " 'log1p',\n",
       " 'modf',\n",
       " 'pi',\n",
       " 'pow',\n",
       " 'radians',\n",
       " 'sin',\n",
       " 'sinh',\n",
       " 'sqrt',\n",
       " 'tan',\n",
       " 'tanh',\n",
       " 'trunc']"
      ]
     },
     "execution_count": 7,
     "metadata": {},
     "output_type": "execute_result"
    }
   ],
   "source": [
    "dir(math)"
   ]
  },
  {
   "cell_type": "markdown",
   "metadata": {},
   "source": [
    "* Asıl önemli kısmı unuttuk. Herhangi bir nesne hakkında yardım almak istersek birkaç yol var."
   ]
  },
  {
   "cell_type": "code",
   "execution_count": 11,
   "metadata": {
    "collapsed": false
   },
   "outputs": [
    {
     "name": "stdout",
     "output_type": "stream",
     "text": [
      "Help on built-in function cos in module math:\n",
      "\n",
      "cos(...)\n",
      "    cos(x)\n",
      "    \n",
      "    Return the cosine of x (measured in radians).\n",
      "\n"
     ]
    }
   ],
   "source": [
    "help(math.cos)"
   ]
  },
  {
   "cell_type": "markdown",
   "metadata": {},
   "source": [
    "1. Programlama temelleri\n",
    "  1. kütüphane çağırma\n",
    "  1. Yapısal programlama komutları (if, while, for)\n",
    "  1. fonksiyon tanımlama\n",
    "1. Merhaba Dünya!\n",
    "```python\n",
    "isim = \"Ali\"\n",
    "s = math.cos(math.pi)\n",
    "msg = 'Merhaba ' + isim + '!'\n",
    "print msg\n",
    "r = \"pi\"\n",
    "print 'cos(', r, ') = ', s\n",
    "```\n",
    "5. **tuple** (Türkçesi?)\n",
    "6. Listeler (**list**)\n",
    "7. Liste oluşturma (**range**)\n",
    "8. Sözlükler (**dictionary**)\n",
    "9. Kümeler (**set**)\n",
    "10. Kodun basamaklandırılması (_indentation_)\n",
    "11. Akış kontrolü\n",
    "    * **if**, **elif**, **else**\n",
    "    * **for**, **while**\n",
    "    * **break**, **continue**\n",
    "    * **enumerate**, **sorted**, **reversed**, **zip**\n",
    "12. İçlem (_comprehension_)    \n",
    "13. Aykırı durumların kontrolü (_exception handling_)\n",
    "14. Fonksiyonlar\n",
    "    * Parametreler\n",
    "        * Pozisyonu belirli parametreler\n",
    "        * İsmi belirli parametreler\n",
    "    * Geri döndürülen değerler\n",
    "    * Belirsiz sayıda parametre\n",
    "15. Dosya işlemleri\n",
    "    * Açma - kapama\n",
    "    * Metin dosyaları\n",
    "    * CSV\n",
    "    * JSON\n",
    "    * Pickle\n",
    "16. **ÖRNEK UYGULAMA:** \"Moby Dick\" kitabının kelimelerinin sayılması ve \"titanic.csv\" dosyasından birkaç istatistik.\n",
    "17. **numpy** paketine giriş\n",
    "    * Vektörler ve matrisler\n",
    "    * Dizi üretme\n",
    "        * **arrange**\n",
    "        * **linspace**, **logspace**\n",
    "        * **zeros**, **ones**\n",
    "        * **random**, **random.seed**\n",
    "    * Dosyadan okuma ve yazma\n",
    "    * Erişme, dilimleme, filtreleme\n",
    "    * Birkaç matematiksel ifade\n",
    "18. **ÖRNEK UYGULAMA:** 500 rassal noktanın ortalamasına denk gelen noktanın bulunması (ve iki boyutlu graifkte gösterilmesi?)\n",
    "19. **scipy** paketine giriş (?)\n",
    "20. **matplotlib** paketine giriş\n",
    "    * Saçılım grafikleri\n",
    "    * Histogramlar\n",
    "    * Eğriler\n",
    "    * Yan yana grafikler\n",
    "21. **ÖRNEK UYGULAMA:** DİE sayfasından alınacak veri kullanılarak zaman içinde nüfustaki değişimin görselleştirilmesi."
   ]
  },
  {
   "cell_type": "code",
   "execution_count": null,
   "metadata": {
    "collapsed": true
   },
   "outputs": [],
   "source": []
  }
 ],
 "metadata": {
  "kernelspec": {
   "display_name": "Python 2",
   "language": "python",
   "name": "python2"
  },
  "language_info": {
   "codemirror_mode": {
    "name": "ipython",
    "version": 2
   },
   "file_extension": ".py",
   "mimetype": "text/x-python",
   "name": "python",
   "nbconvert_exporter": "python",
   "pygments_lexer": "ipython2",
   "version": "2.7.9"
  }
 },
 "nbformat": 4,
 "nbformat_minor": 0
}

{
 "metadata": {
  "name": ""
 },
 "nbformat": 3,
 "nbformat_minor": 0,
 "worksheets": [
  {
   "cells": [
    {
     "cell_type": "heading",
     "level": 1,
     "metadata": {},
     "source": [
      "Basit karar yap\u0131s\u0131 ve blok kayd\u0131rma"
     ]
    },
    {
     "cell_type": "markdown",
     "metadata": {},
     "source": [
      "Program\u0131n\u0131z\u0131n her zaman de\u011fil, baz\u0131 \u015fartlar ger\u00e7ekle\u015fti\u011finde i\u015fletmesini istedi\u011finiz komutlar olur s\u0131k s\u0131k. Bu ama\u00e7la `if` yap\u0131s\u0131n\u0131 kullan\u0131r\u0131z."
     ]
    },
    {
     "cell_type": "code",
     "collapsed": false,
     "input": [
      "sayi = 15\n",
      "tahmin = input(\"Tahmin: \")\n",
      "if sayi == tahmin:\n",
      "    print \"Do\u011fru!\""
     ],
     "language": "python",
     "metadata": {},
     "outputs": [
      {
       "name": "stdout",
       "output_type": "stream",
       "stream": "stdout",
       "text": [
        "Tahmin: 15\n"
       ]
      },
      {
       "output_type": "stream",
       "stream": "stdout",
       "text": [
        "Do\u011fru!\n"
       ]
      }
     ],
     "prompt_number": 2
    },
    {
     "cell_type": "markdown",
     "metadata": {},
     "source": [
      "Bu kod par\u00e7as\u0131n\u0131 \u00e7al\u0131\u015ft\u0131r\u0131p 15'den farkl\u0131 bir say\u0131 verdi\u011finizde herhangi bir mesaj \u00e7\u0131kmayacak, ama 15 verdi\u011finizde `Do\u011fru!` yazacak.\n",
      "Dikkat edilecek noktalar:\n",
      "* `if` kelimesinin ard\u0131ndan bir _\u015fart_ (`sayi` e\u015fittir `tahmin`) gelmeli.\n",
      "* _e\u015fitlik_ \u015fart\u0131 i\u00e7in \u00e7ift e\u015fit i\u015fareti (`==`) kullan\u0131r\u0131z. Tek e\u015fit (`=`) de\u011fi\u015fken atamas\u0131 demektir.\n",
      "* \u015earttan sonra iki-nokta-\u00fcst\u00fcste (`:`) koymak gerek.\n",
      "* \u015eart do\u011fruysa i\u015fletilecek olan komutlar _if bloku_ olarak bilinir. __Bloklar\u0131n kayd\u0131r\u0131lmas\u0131 zorunludur.__"
     ]
    },
    {
     "cell_type": "markdown",
     "metadata": {},
     "source": [
      "Blok kayd\u0131rmas\u0131n\u0131 (indentation) baz\u0131 edit\u00f6rler (IPython Notebook gibi) otomatik olarak yapar. Aksi takdirde kendiniz yapmal\u0131s\u0131n\u0131z. Kayd\u0131rma miktar\u0131 \u00f6nemli de\u011fil, bir bo\u015fluk bile olur, ama ayn\u0131 blok i\u00e7inde tutarl\u0131 olmal\u0131. Okunakl\u0131kl\u0131k i\u00e7in programc\u0131lar genel olarak _Tab_ tu\u015fuyla d\u00f6rt bo\u015flukluk kayd\u0131rmay\u0131 benimsemi\u015ftir.\n",
      "\n",
      "Do\u011fru kayd\u0131rma yap\u0131lmazsa blok yap\u0131s\u0131 bozulur ve program yanl\u0131\u015f \u00e7al\u0131\u015f\u0131r. S\u00f6zgeli\u015fi:"
     ]
    },
    {
     "cell_type": "code",
     "collapsed": false,
     "input": [
      "sayi = 15\n",
      "tahmin = input(\"Tahmin: \")\n",
      "if sayi == tahmin:\n",
      "    print \"Do\u011fru!\"\n",
      "    print \"Bravo!\""
     ],
     "language": "python",
     "metadata": {},
     "outputs": []
    },
    {
     "cell_type": "markdown",
     "metadata": {},
     "source": [
      "Bu program sadece yap\u0131lan tahmin do\u011fruysa `Bravo!` yazar. Buna kar\u015f\u0131l\u0131k:"
     ]
    },
    {
     "cell_type": "code",
     "collapsed": false,
     "input": [
      "sayi = 15\n",
      "tahmin = input(\"Tahmin: \")\n",
      "if sayi == tahmin:\n",
      "    print \"Do\u011fru!\"\n",
      "print \"Bravo!\""
     ],
     "language": "python",
     "metadata": {},
     "outputs": []
    },
    {
     "cell_type": "markdown",
     "metadata": {},
     "source": [
      "Bu program tahmin do\u011fru olsa da olmasa da `Bravo!` yazar, \u00e7\u00fcnk\u00fc \n",
      "ikinci `print` komutu ilk kayd\u0131rma seviyesinden ba\u015flat\u0131ld\u0131\u011f\u0131 i\u00e7in, `if` blokunun d\u0131\u015f\u0131nda kald\u0131."
     ]
    },
    {
     "cell_type": "heading",
     "level": 1,
     "metadata": {},
     "source": [
      "\u0130ki ayr\u0131 dal: if-else yap\u0131s\u0131"
     ]
    },
    {
     "cell_type": "markdown",
     "metadata": {},
     "source": [
      "Yanl\u0131\u015f tahminde bulundu\u011fumuzda da program\u0131m\u0131z\u0131n bir tepki vermesini istiyorsak, `if` ile beraber `else` kullan\u0131r\u0131z."
     ]
    },
    {
     "cell_type": "code",
     "collapsed": false,
     "input": [
      "sayi = 15\n",
      "tahmin = input(\"Tahmin: \")\n",
      "if sayi == tahmin:\n",
      "    print \"Do\u011fru!\"\n",
      "else:\n",
      "    print \"Yanl\u0131\u015f!\""
     ],
     "language": "python",
     "metadata": {},
     "outputs": [
      {
       "name": "stdout",
       "output_type": "stream",
       "stream": "stdout",
       "text": [
        "Tahmin: 12\n"
       ]
      },
      {
       "output_type": "stream",
       "stream": "stdout",
       "text": [
        "Yanl\u0131\u015f!\n"
       ]
      }
     ],
     "prompt_number": 4
    },
    {
     "cell_type": "markdown",
     "metadata": {},
     "source": [
      "Dikkat edilecek noktalar:\n",
      "* `if` ve `else` kelimeleri ayn\u0131 komutun par\u00e7as\u0131d\u0131rlar. Ayn\u0131 hizada olmal\u0131d\u0131rlar.\n",
      "* `else`'den sonra bir \u015fart gelmez. `else` bloku yukar\u0131daki \u015fart\u0131n yanl\u0131\u015f oldu\u011fu durumda \u00e7al\u0131\u015f\u0131r sadece.\n",
      "* `if` tek ba\u015f\u0131na kullan\u0131labilir, ama `else` kullan\u0131lamaz. Her `else`'in bir `if`'e ba\u011fl\u0131 olmas\u0131 gerekir."
     ]
    },
    {
     "cell_type": "heading",
     "level": 1,
     "metadata": {},
     "source": [
      "Ard\u0131\u015f\u0131k kararlar: if-elif-else yap\u0131s\u0131"
     ]
    },
    {
     "cell_type": "markdown",
     "metadata": {},
     "source": [
      "\u015eimdi `if` komutunun en genel haline bakaca\u011f\u0131z. `else`den sonra tekrar bir `if` kullanmam\u0131z\u0131n gerekti\u011fi durumlar\u0131 `elif` ifadesiyle sadele\u015ftirebiliriz. Diyelim, \u00f6\u011frencilerin say\u0131sal notlar\u0131n\u0131 al\u0131p harf notlar\u0131 veren bir program yaz\u0131yoruz. \u00d6l\u00e7e\u011fimiz \u015f\u00f6yle olsun:\n",
      "* 0-50 aras\u0131 F\n",
      "* 51-65 aras\u0131 D\n",
      "* 66-80 aras\u0131 C\n",
      "* 81-90 aras\u0131 B\n",
      "* 91-100 aras\u0131 A"
     ]
    },
    {
     "cell_type": "code",
     "collapsed": false,
     "input": [
      "n = input(\"Notu girin: \")\n",
      "if n < 0 or n > 100:\n",
      "    print \"Ge\u00e7ersiz not\"\n",
      "elif n <= 50:\n",
      "    print \"F\"\n",
      "elif n <= 65:\n",
      "    print \"D\"\n",
      "elif n <= 80:\n",
      "    print \"C\"\n",
      "elif n<=90:\n",
      "    print \"B\"\n",
      "else:\n",
      "    print \"A\""
     ],
     "language": "python",
     "metadata": {},
     "outputs": [
      {
       "name": "stdout",
       "output_type": "stream",
       "stream": "stdout",
       "text": [
        "Notu girin: 89\n"
       ]
      },
      {
       "output_type": "stream",
       "stream": "stdout",
       "text": [
        "B\n"
       ]
      }
     ],
     "prompt_number": 7
    },
    {
     "cell_type": "markdown",
     "metadata": {},
     "source": [
      "Ayn\u0131 program\u0131 sadece `if` ve `else` kullanarak da yazabiliriz, ama ardarda kayd\u0131rmalar y\u00fcz\u00fcnden daha zor anla\u015f\u0131l\u0131r."
     ]
    },
    {
     "cell_type": "code",
     "collapsed": false,
     "input": [
      "n = input(\"Notu girin: \")\n",
      "if n < 0 or n > 100:\n",
      "    print \"Ge\u00e7ersiz not\"\n",
      "else: \n",
      "    if n <= 50:\n",
      "        print \"F\"\n",
      "    else:\n",
      "        if n <= 65:\n",
      "            print \"D\"\n",
      "        else:\n",
      "            if n <= 80:\n",
      "                print \"C\"\n",
      "            else:\n",
      "                if n<=90:\n",
      "                    print \"B\"\n",
      "                else:\n",
      "                    print \"A\"\n"
     ],
     "language": "python",
     "metadata": {},
     "outputs": []
    },
    {
     "cell_type": "heading",
     "level": 1,
     "metadata": {},
     "source": [
      "\u00dc\u00e7l\u00fc `if` ifadesi"
     ]
    },
    {
     "cell_type": "markdown",
     "metadata": {},
     "source": [
      "Bir\u00e7ok kez bir de\u011fi\u015fkene belli bir \u015fart\u0131n do\u011frulu\u011funa veya yanl\u0131\u015fl\u0131\u011f\u0131na g\u00f6re bir de\u011fer atamam\u0131z gerekir. Mesela:"
     ]
    },
    {
     "cell_type": "code",
     "collapsed": false,
     "input": [
      "a = 3\n",
      "if a < 5:\n",
      "    x = \"falan\"\n",
      "else:\n",
      "    x = \"filan\"\n",
      "print x"
     ],
     "language": "python",
     "metadata": {},
     "outputs": [
      {
       "output_type": "stream",
       "stream": "stdout",
       "text": [
        "falan\n"
       ]
      }
     ],
     "prompt_number": 10
    },
    {
     "cell_type": "markdown",
     "metadata": {},
     "source": [
      "Bunu daha k\u0131sa yoldan _\u00fc\u00e7l\u00fc if ifadesi_ ile sa\u011flar\u0131z:"
     ]
    },
    {
     "cell_type": "code",
     "collapsed": false,
     "input": [
      "x = \"falan\" if a < 5 else \"filan\"\n",
      "print x"
     ],
     "language": "python",
     "metadata": {},
     "outputs": [
      {
       "output_type": "stream",
       "stream": "stdout",
       "text": [
        "falan\n"
       ]
      }
     ],
     "prompt_number": 9
    },
    {
     "cell_type": "markdown",
     "metadata": {},
     "source": [
      "Daha somut olarak, bir say\u0131n\u0131n mutlak de\u011ferini almak i\u00e7in:"
     ]
    },
    {
     "cell_type": "code",
     "collapsed": false,
     "input": [
      "x = -3\n",
      "x = -x if x<0 else x\n",
      "print x"
     ],
     "language": "python",
     "metadata": {},
     "outputs": [
      {
       "output_type": "stream",
       "stream": "stdout",
       "text": [
        "3\n"
       ]
      }
     ],
     "prompt_number": 11
    },
    {
     "cell_type": "markdown",
     "metadata": {},
     "source": [
      "\u00dc\u00e7l\u00fc `if` ifadesi bir _de\u011fer_ geri verdi\u011fi i\u00e7in, `if-else` blokunun dil kurallar\u0131 gere\u011fi kullan\u0131lamad\u0131\u011f\u0131 yerlerde kullan\u0131labilir, kod yazma esnekli\u011fi sa\u011flar."
     ]
    },
    {
     "cell_type": "markdown",
     "metadata": {},
     "source": [
      "Bu \u00fc\u00e7l\u00fc yap\u0131da `elif` yoktur ama i\u00e7i\u00e7e kararlar verilebilir. S\u00f6zgeli\u015fi, hava s\u0131cakl\u0131\u011f\u0131 15C alt\u0131ndaysa `\"so\u011fuk\"`, 15C-25C aras\u0131ndaysa `\"\u0131l\u0131k\"`, 25C \u00fcst\u00fcndeyse `\"s\u0131cak\"` veren bir ifade yazal\u0131m."
     ]
    },
    {
     "cell_type": "code",
     "collapsed": false,
     "input": [
      "s = input(\"S\u0131cakl\u0131k: \")\n",
      "mesaj = \"hava so\u011fuk\" if s < 15 else \"hava \u0131l\u0131k\" if s < 25 else \"hava s\u0131cak\"\n",
      "print mesaj"
     ],
     "language": "python",
     "metadata": {},
     "outputs": [
      {
       "name": "stdout",
       "output_type": "stream",
       "stream": "stdout",
       "text": [
        "S\u0131cakl\u0131k: 19\n"
       ]
      },
      {
       "output_type": "stream",
       "stream": "stdout",
       "text": [
        "hava \u0131l\u0131k\n"
       ]
      }
     ],
     "prompt_number": 16
    },
    {
     "cell_type": "code",
     "collapsed": false,
     "input": [],
     "language": "python",
     "metadata": {},
     "outputs": []
    }
   ],
   "metadata": {}
  }
 ]
}
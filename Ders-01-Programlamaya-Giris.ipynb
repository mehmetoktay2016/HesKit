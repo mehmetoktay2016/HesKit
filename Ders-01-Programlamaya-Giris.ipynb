{
 "cells": [
  {
   "cell_type": "markdown",
   "metadata": {},
   "source": [
    "# Programlamaya Giriş\n",
    "Adı üstünde, bu kitap \"hesaplama\" üzerine. Konuları işlerken bir yandan da hesap yapacağız. Kaldı ki bu hesaplamaların pek çoğu birkaç adım sürecek. Yani bir hesabın sonucu diğer hesapta kullanılacak. \"Hesap\" dediğimize bakmayın. Bu bazen dört işlem, bazen de bir dosyadaki veriyi okumak olacak. \n",
    "\n",
    "Hâl böyle olunca ufak tefek program yazmamız kaçınılmaz. Aslına bakarsanız bu şekilde bir taşla iki kuş vurmak istiyoruz. Hesaplama öğrenirken programlamayı da aradan çıkarmak güzel olur. \n",
    "\n",
    "## Neden Python?\n",
    "Programlama dilini seçerken farklı seçenekleri konuştuk. Sonunda Python'da karar kıldık. Pek de zor bir karar olmadı. Bir kere Python ücretsiz ve açık kaynak kodlu. Kolayca her bilgisayara yüklenebiliyor. Üstelik bilgisayarın işletim sisteminin Linux, MacOS ya da Windows olması farketmiyor. \n",
    "\n",
    "Bu bölümde Python ile programlamaya sadece bir _giriş_ yapacağız. Temel kullanımı ve sıkça kullanılan komutları işleyeceğiz. Göreceksiniz bölümler ilerledikçe Python ve programlama bilginiz de artacak. Yapacağımız örnekler sayesinde uygulayarak öğrendiklerinizi pekiştireceğinize inanıyoruz. Ancak yine de şunun altını çizmekte fayda var: Amacımız Python öğretmek değil. Eğer ayrıntılarıyla Python öğrenmek isterseniz, bu konuda tonla kaynak bulabilirsniz. Üstelik bu kaynakların önemli bir kısmı da ücretsiz. \n",
    "\n",
    "Eğer Python biliyorsanız doğrudan diğer bölümlere geçebilirsiniz. Gerekirse buraya geri dönersiniz. Fakat biz yine de bu bölüme bir göz atmanızı tavsiye ederiz. \n",
    "\n",
    "Yok eğer ne programlama, ne de Python biliyorsanız o zaman bu bölüm tam size göre. Haydi başlayalım.\n",
    "\n",
    "## Deneme-Yanılma\n",
    "Python uzunca bir süredir hesaplama işleri yapanların tercihi. Bunun başlıca sebebi öğrenmesinin çok kolay olması ve binlerce paketten oluşan kütüphanesi ile her türlü hesaplama işine koşabilmesi. \n",
    "\n",
    "Python'ın en güzel yanlarından biri etkileşimli komut satırı. Etkileşimli daha havalı muhakkak ama hesap makinesinden hallice de diyebiliriz. Buyurun size dört işlem."
   ]
  },
  {
   "cell_type": "code",
   "execution_count": 2,
   "metadata": {
    "collapsed": false
   },
   "outputs": [
    {
     "data": {
      "text/plain": [
       "-3.694"
      ]
     },
     "execution_count": 2,
     "metadata": {},
     "output_type": "execute_result"
    }
   ],
   "source": [
    "3 + 2.1*(4.3/5) - 8.5"
   ]
  },
  {
   "cell_type": "markdown",
   "metadata": {},
   "source": [
    "Bu kadar değil tabii. Komut satırında, tıpkı dört işlem gibi, herhangi bir kod parçacığını denemek mümkün. Mesela *a*, *b* ve *c* diye üç <font color='red'>değişken</font> tanımlayabiliriz."
   ]
  },
  {
   "cell_type": "code",
   "execution_count": 5,
   "metadata": {
    "collapsed": true
   },
   "outputs": [],
   "source": [
    "a = 3\n",
    "b = 2.3\n",
    "c = 1.7"
   ]
  },
  {
   "cell_type": "markdown",
   "metadata": {},
   "source": [
    "Artık bu değişkenleri her yerde kullanabiliriz."
   ]
  },
  {
   "cell_type": "code",
   "execution_count": 6,
   "metadata": {
    "collapsed": false
   },
   "outputs": [
    {
     "data": {
      "text/plain": [
       "7.0"
      ]
     },
     "execution_count": 6,
     "metadata": {},
     "output_type": "execute_result"
    }
   ],
   "source": [
    "a + b + c"
   ]
  },
  {
   "cell_type": "markdown",
   "metadata": {},
   "source": [
    "Ya da komutları deneyebiliriz."
   ]
  },
  {
   "cell_type": "code",
   "execution_count": 2,
   "metadata": {
    "collapsed": false
   },
   "outputs": [
    {
     "name": "stdout",
     "output_type": "stream",
     "text": [
      "Etkileşimli komut satırı harika!\n"
     ]
    }
   ],
   "source": [
    "print \"Etkileşimli komut satırı harika!\""
   ]
  },
  {
   "cell_type": "markdown",
   "metadata": {},
   "source": [
    "Burada gördüğünüz <font color='green'>**print**</font> komutu ekrana yazdırmak için kullanılıyor. Çift tırnak içindeki ifade ise bir <font color='red'>dize</font>. Dizeleri ilerde ayrıca işleyeceğiz."
   ]
  },
  {
   "cell_type": "markdown",
   "metadata": {},
   "source": [
    "## Paketler"
   ]
  },
  {
   "cell_type": "markdown",
   "metadata": {},
   "source": [
    "Python ile programlama yaparken pek çok işi hazır paketler ile halletmek mümkün. Bu paketleri kullanmanın birkaç yolu var. Diyelim ki matematik paketinden $\\pi$ sayısını ve kosinüs fonksiyonunu kullanmak istiyoruz. \n",
    "\n",
    "İlk yol **tüm** matematiksel nesneleri (sabitler ve fonksiyonlar) eklemek olabilir."
   ]
  },
  {
   "cell_type": "code",
   "execution_count": 7,
   "metadata": {
    "collapsed": false
   },
   "outputs": [
    {
     "name": "stdout",
     "output_type": "stream",
     "text": [
      "3.14159265359\n",
      "-1.0\n"
     ]
    }
   ],
   "source": [
    "import math\n",
    "print math.pi\n",
    "print math.cos(math.pi)"
   ]
  },
  {
   "cell_type": "markdown",
   "metadata": {},
   "source": [
    "Bu durumda her çağıracağımız nesnenin başına paket ismini (_math_) eklemmiz gerekiyor. Her seferinde yazmak istemiyorsanız ikinci yolu kullanmak daha uygun."
   ]
  },
  {
   "cell_type": "code",
   "execution_count": 8,
   "metadata": {
    "collapsed": false
   },
   "outputs": [
    {
     "name": "stdout",
     "output_type": "stream",
     "text": [
      "3.14159265359\n",
      "-1.0\n"
     ]
    }
   ],
   "source": [
    "from math import *\n",
    "print pi\n",
    "print cos(pi)"
   ]
  },
  {
   "cell_type": "markdown",
   "metadata": {},
   "source": [
    "Eğer sadece birkaç sabit ve fonksiyon kullanacaksanız, tüm paketleri değil de gerekli olanları da eklemeniz yeterli. Bunun için \n",
    "\n",
    "<font color='green'>**from**</font> _paket_ <font color='green'>**import**</font> _nesne_ \n",
    "\n",
    "kalıbı kullanılıyor."
   ]
  },
  {
   "cell_type": "code",
   "execution_count": 6,
   "metadata": {
    "collapsed": false
   },
   "outputs": [
    {
     "name": "stdout",
     "output_type": "stream",
     "text": [
      "3.14159265359\n",
      "-1.0\n"
     ]
    }
   ],
   "source": [
    "from math import pi, cos\n",
    "print pi\n",
    "print cos(pi)"
   ]
  },
  {
   "cell_type": "markdown",
   "metadata": {},
   "source": [
    "Bir kütüphanenin içindeki tüm fonksiyonlara <font color='green'>**dir**</font> komutu ile bakabilirsiniz."
   ]
  },
  {
   "cell_type": "code",
   "execution_count": 9,
   "metadata": {
    "collapsed": true
   },
   "outputs": [
    {
     "data": {
      "text/plain": [
       "['__doc__',\n",
       " '__file__',\n",
       " '__name__',\n",
       " '__package__',\n",
       " 'acos',\n",
       " 'acosh',\n",
       " 'asin',\n",
       " 'asinh',\n",
       " 'atan',\n",
       " 'atan2',\n",
       " 'atanh',\n",
       " 'ceil',\n",
       " 'copysign',\n",
       " 'cos',\n",
       " 'cosh',\n",
       " 'degrees',\n",
       " 'e',\n",
       " 'erf',\n",
       " 'erfc',\n",
       " 'exp',\n",
       " 'expm1',\n",
       " 'fabs',\n",
       " 'factorial',\n",
       " 'floor',\n",
       " 'fmod',\n",
       " 'frexp',\n",
       " 'fsum',\n",
       " 'gamma',\n",
       " 'hypot',\n",
       " 'isinf',\n",
       " 'isnan',\n",
       " 'ldexp',\n",
       " 'lgamma',\n",
       " 'log',\n",
       " 'log10',\n",
       " 'log1p',\n",
       " 'modf',\n",
       " 'pi',\n",
       " 'pow',\n",
       " 'radians',\n",
       " 'sin',\n",
       " 'sinh',\n",
       " 'sqrt',\n",
       " 'tan',\n",
       " 'tanh',\n",
       " 'trunc']"
      ]
     },
     "execution_count": 9,
     "metadata": {},
     "output_type": "execute_result"
    }
   ],
   "source": [
    "dir(math)"
   ]
  },
  {
   "cell_type": "markdown",
   "metadata": {},
   "source": [
    "Asıl önemli kısmı unutmayalım. Herhangi bir nesne hakkında yardım almak için şu üç komuttan birini kullanabilirsiniz. "
   ]
  },
  {
   "cell_type": "code",
   "execution_count": 21,
   "metadata": {
    "collapsed": true
   },
   "outputs": [
    {
     "name": "stdout",
     "output_type": "stream",
     "text": [
      "Help on built-in function cos in module math:\n",
      "\n",
      "cos(...)\n",
      "    cos(x)\n",
      "    \n",
      "    Return the cosine of x (measured in radians).\n",
      "\n"
     ]
    }
   ],
   "source": [
    "# Standart açıklama\n",
    "help(math.cos) \n",
    "# Kısa açıklama\n",
    "math.pi?\n",
    "# Uzun açıklama\n",
    "math.cos??"
   ]
  },
  {
   "cell_type": "markdown",
   "metadata": {},
   "source": [
    "Yukarıdaki bazı satırlar # işareti ile başlıyor. O  satırlar Python tarafından dikkate alınmıyor. Programlama yapan bizlerse bu satırları açıklamalar yapmak, ufak tefek notlar almak için yazıyoruz. İyi bir hesaplamacı ya da programcı daima bu tür yorumlar ile hazırladığı kodu daha iyi anlaşılır hale getirir. \n",
    "\n",
    "Bir sonraki derste Python programlama dilinde kullanılan veri yapılarından bahsedeceğiz."
   ]
  }
 ],
 "metadata": {
  "kernelspec": {
   "display_name": "Python 2",
   "language": "python",
   "name": "python2"
  },
  "language_info": {
   "codemirror_mode": {
    "name": "ipython",
    "version": 2
   },
   "file_extension": ".py",
   "mimetype": "text/x-python",
   "name": "python",
   "nbconvert_exporter": "python",
   "pygments_lexer": "ipython2",
   "version": "2.7.9"
  }
 },
 "nbformat": 4,
 "nbformat_minor": 0
}

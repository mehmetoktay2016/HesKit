{
 "cells": [
  {
   "cell_type": "markdown",
   "metadata": {},
   "source": [
    "# Fonksiyonlar\n",
    "Şu ana kadar zengin Python kütüphaneleri sayesinde pek çok fonksiyonu kolayca kullandık. Öte yandan bazı durumlarda kendi fonksiyonlarımızı yazmak isteyebiliriz. Mesela Python'da kullanılan standart dize fonksiyonları Türkçe harfler ile başa çıkamıyorlar. Diyelim ki \"ARMUT\" dizesindeki büyük harfleri küçükleri ile değiştirmek istiyoruz. Bunun için dizeler için tanımlanmış olan <font color='green'>**lower**</font> fonksiyonunu kullanacağız."
   ]
  },
  {
   "cell_type": "code",
   "execution_count": 145,
   "metadata": {
    "collapsed": false
   },
   "outputs": [
    {
     "name": "stdout",
     "output_type": "stream",
     "text": [
      "armut\n"
     ]
    }
   ],
   "source": [
    "meyva = \"ARMUT\"\n",
    "print meyva.lower()"
   ]
  },
  {
   "cell_type": "markdown",
   "metadata": {},
   "source": [
    "Buraya kadar bir terslik yok. Fakat aynı fonksiyon dizede Türkçe harfler varsa doğru çalışmıyor."
   ]
  },
  {
   "cell_type": "code",
   "execution_count": 146,
   "metadata": {
    "collapsed": false
   },
   "outputs": [
    {
     "name": "stdout",
     "output_type": "stream",
     "text": [
      "iĞdir\n"
     ]
    }
   ],
   "source": [
    "il = \"IĞDIR\"\n",
    "print il.lower()"
   ]
  },
  {
   "cell_type": "markdown",
   "metadata": {},
   "source": [
    "Bu sorunu herhangi bir dize içindeki harf gruplarını değiştirmek için kullanılan <font color='green'>**replace**</font> fonksiyonu ile çözebiliriz."
   ]
  },
  {
   "cell_type": "code",
   "execution_count": 147,
   "metadata": {
    "collapsed": false
   },
   "outputs": [
    {
     "name": "stdout",
     "output_type": "stream",
     "text": [
      "ığdır\n"
     ]
    }
   ],
   "source": [
    "il = \"IĞDIR\"\n",
    "il = il.replace(\"Ğ\", \"ğ\")\n",
    "il = il.replace(\"I\", \"ı\")\n",
    "print il.lower()"
   ]
  },
  {
   "cell_type": "markdown",
   "metadata": {},
   "source": [
    "Peki ya kelimemiz \"KEŞKÜL\" olsa? "
   ]
  },
  {
   "cell_type": "code",
   "execution_count": 148,
   "metadata": {
    "collapsed": false
   },
   "outputs": [
    {
     "name": "stdout",
     "output_type": "stream",
     "text": [
      "keŞkÜl\n"
     ]
    }
   ],
   "source": [
    "tat = \"KEŞKÜL\"\n",
    "print tat.lower()"
   ]
  },
  {
   "cell_type": "markdown",
   "metadata": {},
   "source": [
    "Belli ki \"Ş\" ve \"Ü\" harfleri için de harf değiştirme işlemlerini yapmamız gerekecek."
   ]
  },
  {
   "cell_type": "code",
   "execution_count": 149,
   "metadata": {
    "collapsed": false
   },
   "outputs": [
    {
     "name": "stdout",
     "output_type": "stream",
     "text": [
      "keşkül\n"
     ]
    }
   ],
   "source": [
    "tat = \"KEŞKÜL\"\n",
    "tat = tat.replace(\"Ş\", \"ş\")\n",
    "tat = tat.replace(\"Ü\", \"ü\")\n",
    "print tat.lower()"
   ]
  },
  {
   "cell_type": "markdown",
   "metadata": {},
   "source": [
    "Bunun sonu yok. İyisi mi kelimeyi verdiğimizde Türkçe büyük harfleri küçükleri ile değiştiren bir fonksiyon yazmalı. \n",
    "\n",
    "Python'da bir fonksiyonu <font color='green'>**def**</font> anahtar kelimesi ile tanımlıyoruz. "
   ]
  },
  {
   "cell_type": "code",
   "execution_count": 150,
   "metadata": {
    "collapsed": true
   },
   "outputs": [],
   "source": [
    "def lowertr(kelime):\n",
    "    kelime = kelime.replace(\"Ö\", \"ö\")\n",
    "    kelime = kelime.replace(\"Ü\", \"ü\")\n",
    "    kelime = kelime.replace(\"İ\", \"i\")\n",
    "    kelime = kelime.replace(\"Ğ\", \"ğ\")\n",
    "    kelime = kelime.replace(\"Ş\", \"ş\")\n",
    "    kelime = kelime.replace(\"Ç\", \"ç\")\n",
    "    kelime = kelime.replace(\"I\", \"ı\")\n",
    "    kelime = kelime.lower()\n",
    "    print kelime"
   ]
  },
  {
   "cell_type": "markdown",
   "metadata": {},
   "source": [
    "Fonksiyonumuzun ismi <font color='blue'>lowertr</font> ve _kelime_ isimli parametreyi alıyor. Hemen deneyelim."
   ]
  },
  {
   "cell_type": "code",
   "execution_count": 151,
   "metadata": {
    "collapsed": false
   },
   "outputs": [
    {
     "name": "stdout",
     "output_type": "stream",
     "text": [
      "ığdır\n",
      "keşkül\n"
     ]
    }
   ],
   "source": [
    "lowertr(\"IĞDIR\")\n",
    "lowertr(\"KEŞKÜL\")"
   ]
  },
  {
   "cell_type": "markdown",
   "metadata": {},
   "source": [
    "İşte bu kadar. Şimdi küçük harflerle yazılmış olan kelimeyi de başka bir değişkene kaydetmeyi deneyelim."
   ]
  },
  {
   "cell_type": "code",
   "execution_count": 152,
   "metadata": {
    "collapsed": false
   },
   "outputs": [
    {
     "name": "stdout",
     "output_type": "stream",
     "text": [
      "keşkül\n",
      "None\n"
     ]
    }
   ],
   "source": [
    "dize = \"IĞDIR KEŞKÜL CENNETİ\"\n",
    "dizekucuk = lowertr(tat)\n",
    "print dizekucuk"
   ]
  },
  {
   "cell_type": "markdown",
   "metadata": {},
   "source": [
    "İkinci satırdaki \"_None_\" kelimesi _dizge_kucuk_ değişkeninin içinin boş olduğunu gösteriyor. Demek ki fonksiyonumuz küçük harflere çevirdiği dizgeyi geri döndürmüyor. Ufak bir değişiklik ile hemen hallederiz. Tek yapmamız gereken <font color='green'>**return**</font> anahtar kelimesi ile çağrılan fonksiyonun ne çevireceğini belirtmek."
   ]
  },
  {
   "cell_type": "code",
   "execution_count": 153,
   "metadata": {
    "collapsed": true
   },
   "outputs": [],
   "source": [
    "def lowertr(kelime):\n",
    "    kelime = kelime.replace(\"Ö\", \"ö\")\n",
    "    kelime = kelime.replace(\"Ü\", \"ü\")\n",
    "    kelime = kelime.replace(\"İ\", \"i\")\n",
    "    kelime = kelime.replace(\"Ğ\", \"ğ\")\n",
    "    kelime = kelime.replace(\"Ş\", \"ş\")\n",
    "    kelime = kelime.replace(\"Ç\", \"ç\")\n",
    "    kelime = kelime.replace(\"I\", \"ı\")\n",
    "    kelime = kelime.lower()\n",
    "    return kelime # Bu satır küçük harfli kelimeyi döndürüyor"
   ]
  },
  {
   "cell_type": "markdown",
   "metadata": {},
   "source": [
    "Artık _dizgekucuk_ değişkenine doğru şekilde atama yapabiliriz."
   ]
  },
  {
   "cell_type": "code",
   "execution_count": 154,
   "metadata": {
    "collapsed": false
   },
   "outputs": [
    {
     "name": "stdout",
     "output_type": "stream",
     "text": [
      "keşkül\n"
     ]
    }
   ],
   "source": [
    "dizge = \"IĞDIR KEŞKÜL CENNETİ\"\n",
    "dizgekucuk = lowertr(tat)\n",
    "print dizge_kucuk"
   ]
  },
  {
   "cell_type": "markdown",
   "metadata": {},
   "source": [
    "İşi biraz daha ilerletelim. İki seçeneğimiz olsun. İlk seçenekte daha önceki gibi dizeyi küçük harflere, ikinci seçenekte ise büyük harflere dönüştürelim. Seçeneği belirlemek için ikinci bir parametre tanımlayabiliriz. Bu parametre 1 değerini alırsa küçük harf seçeneğini, 0 değerini alırsa da büyük harf seçeneğini uygulayacağız. "
   ]
  },
  {
   "cell_type": "code",
   "execution_count": 161,
   "metadata": {
    "collapsed": true
   },
   "outputs": [],
   "source": [
    "def kucukbuyuk(kelime, secenek):\n",
    "    if (secenek):\n",
    "        kelime = lowertr(kelime) # Daha önce hazırlamıştık\n",
    "    else:\n",
    "        kelime = kelime.replace(\"ö\", \"Ö\")\n",
    "        kelime = kelime.replace(\"ü\", \"Ü\")\n",
    "        kelime = kelime.replace(\"i\", \"İ\")\n",
    "        kelime = kelime.replace(\"ğ\", \"Ğ\")\n",
    "        kelime = kelime.replace(\"ş\", \"Ş\")\n",
    "        kelime = kelime.replace(\"ç\", \"Ç\")\n",
    "        kelime = kelime.replace(\"ı\", \"I\")\n",
    "        kelime = kelime.upper()\n",
    "\n",
    "    return kelime"
   ]
  },
  {
   "cell_type": "markdown",
   "metadata": {},
   "source": [
    "Dikkat ederseniz daha önce tanımladığımız <font color='blue'>lowertr</font> fonksiyonunu yeni fonksiyonumuzun ilk seçeneğinde kullandık. "
   ]
  },
  {
   "cell_type": "code",
   "execution_count": 162,
   "metadata": {
    "collapsed": false
   },
   "outputs": [
    {
     "name": "stdout",
     "output_type": "stream",
     "text": [
      "ığdır\n",
      "KEŞKÜL\n"
     ]
    }
   ],
   "source": [
    "print kucukbuyuk(\"Iğdır\", 1)\n",
    "print kucukbuyuk(\"Keşkül\", 0)"
   ]
  },
  {
   "cell_type": "markdown",
   "metadata": {},
   "source": [
    "Her seferinde 1 ya da 0 diye seçeneği girmek insanın canını sıkabilir. Özellikle de çoğu zaman küçük harflere dönüştürmeyi kullanacaksanız. Python'da bunun da çaresi var. Tek yapmamız gereken bazı parametrelerin varsayılan değerlerini girmek."
   ]
  },
  {
   "cell_type": "code",
   "execution_count": 163,
   "metadata": {
    "collapsed": false
   },
   "outputs": [],
   "source": [
    "def kucukbuyuk(kelime, secenek=1):\n",
    "    if (secenek):\n",
    "        kelime = lowertr(kelime)\n",
    "    else:\n",
    "        kelime = kelime.replace(\"ö\", \"Ö\")\n",
    "        kelime = kelime.replace(\"ü\", \"Ü\")\n",
    "        kelime = kelime.replace(\"i\", \"İ\")\n",
    "        kelime = kelime.replace(\"ğ\", \"Ğ\")\n",
    "        kelime = kelime.replace(\"ş\", \"Ş\")\n",
    "        kelime = kelime.replace(\"ç\", \"Ç\")\n",
    "        kelime = kelime.replace(\"ı\", \"I\")\n",
    "        kelime = kelime.upper()\n",
    "\n",
    "    return kelime"
   ]
  },
  {
   "cell_type": "markdown",
   "metadata": {},
   "source": [
    "İkinci parametre, yani _secenek_, artık <font color='red'>varsayılan parametre</font>. Fonksiyon çağrılırken varsayılan parametrenin değeri verilmezse, fonksiyon içerisinde _secenek_ parametresinin değeri 1 olarak alınıyor. "
   ]
  },
  {
   "cell_type": "code",
   "execution_count": 164,
   "metadata": {
    "collapsed": false
   },
   "outputs": [
    {
     "name": "stdout",
     "output_type": "stream",
     "text": [
      "ığdır\n",
      "KASIMPATI\n"
     ]
    }
   ],
   "source": [
    "print kucukbuyuk(\"IĞDIR\") # secenek parametresi varsayılan değeri alacak\n",
    "print kucukbuyuk(\"kasımpatı\", 0) # secenek parametresi ayrıca girilmiş"
   ]
  },
  {
   "cell_type": "markdown",
   "metadata": {},
   "source": [
    "Burada bir noktaya dikkat etmeli. Varsayılan parametreler her zaman diğer parametrelerden **sonra** yazılmak zorundalar.\n",
    "\n",
    "Parametrelerin varsayılan değerlerini girmenin getirdiği bir kolaylık daha var. Bu tür parametrelerden birkaç tane varsa, isimleri verilerek herhangi bir sırayla girilebiliyorlar. Bunun en güzel örneği grafik çizmede kullanılan <font color='green'>**plot**</font> fonksiyonu. Aşağıdaki örnekteki _linewidth_, _color_ ve _linestyle_ parametreleri _x_ ve _y_ parametrelerinden **sonra** istenilen sırada girilebilir."
   ]
  },
  {
   "cell_type": "code",
   "execution_count": 165,
   "metadata": {
    "collapsed": false
   },
   "outputs": [
    {
     "name": "stdout",
     "output_type": "stream",
     "text": [
      "Populating the interactive namespace from numpy and matplotlib\n"
     ]
    },
    {
     "data": {
      "text/plain": [
       "[<matplotlib.lines.Line2D at 0x11305b690>]"
      ]
     },
     "execution_count": 165,
     "metadata": {},
     "output_type": "execute_result"
    },
    {
     "data": {
      "image/png": "[encoded data removed]",
      "text/plain": [
       "<matplotlib.figure.Figure at 0x112db8350>"
      ]
     },
     "metadata": {},
     "output_type": "display_data"
    }
   ],
   "source": [
    "% pylab inline\n",
    "x = arange(0.0, 2.0, 0.01)\n",
    "y = cos(2*pi*t)\n",
    "plot(x, y, linewidth=2, color=\"red\", linestyle=\"dashed\")"
   ]
  },
  {
   "cell_type": "markdown",
   "metadata": {},
   "source": [
    "Basit birkaç sayısal örnek yapalım.\n",
    "Örneğin, bir dikdörtgenin iki kenarını parametre olarak alıp, alanını veren bir fonksiyon yazalım. İkinci kenar uzunluğunun varsayılan değeri 1 olsun."
   ]
  },
  {
   "cell_type": "code",
   "execution_count": 4,
   "metadata": {
    "collapsed": true
   },
   "outputs": [],
   "source": [
    "def dikd_alan(en, boy=1):\n",
    "    return en*boy"
   ]
  },
  {
   "cell_type": "code",
   "execution_count": 5,
   "metadata": {
    "collapsed": false
   },
   "outputs": [
    {
     "name": "stdout",
     "output_type": "stream",
     "text": [
      "15\n",
      "3\n",
      "10\n"
     ]
    }
   ],
   "source": [
    "print dikd_alan(3,5)\n",
    "print dikd_alan(3)\n",
    "print dikd_alan(boy=2, en=5)"
   ]
  },
  {
   "cell_type": "markdown",
   "metadata": {},
   "source": [
    "Son örnekte, parametrelerin isimlerini kullandığımız için, fonksiyonda tanımlanmış sıralarını kullanmak zorunda kalmadık (yani önce en, sonra boy vermek zorunda değiliz)."
   ]
  },
  {
   "cell_type": "markdown",
   "metadata": {},
   "source": [
    "Daha doğal bir varsayım olarak diyelim ki, sadece `en` verildiğinde `boy`'un da aynı değere sahip olmasını istiyoruz. Yani tek bir kenar ölçüsü verildiğinde dikdörtgenimizin kare olduğunu varsayıyoruz. Bunu yapmanın doğrudan bir yolu yok, ama şöyle bir numara yapabiliriz: `boy` için varsayılan değeri `None` olarak veririz, ve bu değer değiştirilmediyse `en`'e eşitleriz."
   ]
  },
  {
   "cell_type": "code",
   "execution_count": 7,
   "metadata": {
    "collapsed": false
   },
   "outputs": [],
   "source": [
    "def dikd_alan(en, boy=None):\n",
    "    if boy == None:\n",
    "        boy = en\n",
    "    return en*boy"
   ]
  },
  {
   "cell_type": "code",
   "execution_count": 8,
   "metadata": {
    "collapsed": false
   },
   "outputs": [
    {
     "name": "stdout",
     "output_type": "stream",
     "text": [
      "15\n",
      "9\n"
     ]
    }
   ],
   "source": [
    "print dikd_alan(3,5)\n",
    "print dikd_alan(3)"
   ]
  },
  {
   "cell_type": "markdown",
   "metadata": {},
   "source": [
    "1'den başlayarak, verilen bir sayıya kadar tamsayıları toplayan bir fonksiyon:"
   ]
  },
  {
   "cell_type": "code",
   "execution_count": 32,
   "metadata": {
    "collapsed": true
   },
   "outputs": [],
   "source": [
    "def toplam(N):\n",
    "    t = 0\n",
    "    i = 1\n",
    "    while i<=N:\n",
    "        t += i\n",
    "        i += 1\n",
    "    return t"
   ]
  },
  {
   "cell_type": "code",
   "execution_count": 33,
   "metadata": {
    "collapsed": false
   },
   "outputs": [
    {
     "name": "stdout",
     "output_type": "stream",
     "text": [
      "5050\n"
     ]
    }
   ],
   "source": [
    "print toplam(100)"
   ]
  },
  {
   "cell_type": "markdown",
   "metadata": {},
   "source": [
    "Bunu genelleştirelim; `ilk`'den `N`'ye kadar `adim` adımlarla ilerleyerek elde edilen aritmetik dizinin toplamını veren bir fonksiyon yazalım. Varsayılan değerler `ilk` için 0 ve `adim` için 1 olsun."
   ]
  },
  {
   "cell_type": "code",
   "execution_count": 18,
   "metadata": {
    "collapsed": true
   },
   "outputs": [],
   "source": [
    "def toplam(N, ilk=0, adim=1):\n",
    "    t = 0\n",
    "    i = ilk\n",
    "    while i <= N:\n",
    "        t += i\n",
    "        i += adim\n",
    "    return t"
   ]
  },
  {
   "cell_type": "code",
   "execution_count": null,
   "metadata": {
    "collapsed": false
   },
   "outputs": [],
   "source": []
  },
  {
   "cell_type": "code",
   "execution_count": 19,
   "metadata": {
    "collapsed": false
   },
   "outputs": [
    {
     "name": "stdout",
     "output_type": "stream",
     "text": [
      "5050\n",
      "5005\n",
      "1050\n"
     ]
    }
   ],
   "source": [
    "print toplam(100)    # 0 + 1 + 2 + ... + 100\n",
    "print toplam(100,10) # 10 + 11 + ... + 100\n",
    "print toplam(100, adim=5) # 5 + 10 + ... + 100"
   ]
  },
  {
   "cell_type": "markdown",
   "metadata": {},
   "source": [
    "Madem genelliyoruz, aritmetik dizilerin ötesine geçelim. Sözgelişi, genel bir _f_ fonksiyonu için $\\sum_{i=0}^{N} f(i)$ toplamını hesaplayacak bir fonksiyon yazalım.\n",
    "\n",
    "Burada, `toplam` fonksiyonuna başka bir fonksiyonu parametre olarak vermeliyiz. Python'da her şey gibi fonksiyonlar da bir nesne olduğu için, bunu basit şekilde halledebiliriz."
   ]
  },
  {
   "cell_type": "code",
   "execution_count": 20,
   "metadata": {
    "collapsed": true
   },
   "outputs": [],
   "source": [
    "def toplam(N, f):\n",
    "    t = 0\n",
    "    i = 0\n",
    "    while i<=N:\n",
    "        t += f(i)\n",
    "        i += 1\n",
    "    return t"
   ]
  },
  {
   "cell_type": "markdown",
   "metadata": {},
   "source": [
    "Tabii bu toplamı yapabilmek için sayısal değer veren bir fonksiyon ismini kullanmalıyız. Sözgelişi, `math` modülünden karekök alma fonksiyonunu alalım."
   ]
  },
  {
   "cell_type": "code",
   "execution_count": 21,
   "metadata": {
    "collapsed": false
   },
   "outputs": [
    {
     "name": "stdout",
     "output_type": "stream",
     "text": [
      "22.4682781862\n"
     ]
    }
   ],
   "source": [
    "from math import sqrt\n",
    "print toplam(10, sqrt)  # sqrt(0) + sqrt(1) + ... + sqrt(10)"
   ]
  },
  {
   "cell_type": "markdown",
   "metadata": {},
   "source": [
    "Veya, kendimiz bir fonksiyon tanımlayalım."
   ]
  },
  {
   "cell_type": "code",
   "execution_count": 22,
   "metadata": {
    "collapsed": false
   },
   "outputs": [
    {
     "name": "stdout",
     "output_type": "stream",
     "text": [
      "2.18087457778\n"
     ]
    }
   ],
   "source": [
    "def f(x):\n",
    "    return 1.0/(2*x+1)\n",
    "print toplam(10, f)  # 1/3 + 1/5 + ... + 1/21"
   ]
  },
  {
   "cell_type": "markdown",
   "metadata": {},
   "source": [
    "Bu ve benzeri şekilde, bir fonksiyon nesnesi beklenen durumlarda başka bir alternatifimiz _isimsiz fonksiyonlardır_. Yukarıdaki örneği isimsiz fonksiyonlarla şöyle yazarız."
   ]
  },
  {
   "cell_type": "code",
   "execution_count": 24,
   "metadata": {
    "collapsed": false
   },
   "outputs": [
    {
     "name": "stdout",
     "output_type": "stream",
     "text": [
      "2.18087457778\n"
     ]
    }
   ],
   "source": [
    "print toplam(10, lambda x: 1.0/(2*x+1))"
   ]
  },
  {
   "cell_type": "markdown",
   "metadata": {},
   "source": [
    "Buradaki `lambda`, isimsiz fonksiyon yaratma komutudur. Ardından parametre listesi yazılır, iki nokta üstüste konur, ve geri verilecek değer yazılır. İstenirse, aşağıdaki gibi, isimlere atanıp tekrar kullanılabilirler de."
   ]
  },
  {
   "cell_type": "code",
   "execution_count": 29,
   "metadata": {
    "collapsed": false
   },
   "outputs": [
    {
     "name": "stdout",
     "output_type": "stream",
     "text": [
      "0.75\n",
      "1.5\n"
     ]
    }
   ],
   "source": [
    "f = lambda x: x/(x+1.0)\n",
    "g = lambda x,y: 1.0*(x+y)/(x*y)\n",
    "print f(3)\n",
    "print g(1,2)"
   ]
  },
  {
   "cell_type": "markdown",
   "metadata": {},
   "source": [
    "İsimsiz fonksiyonlar, tek seferlik \"kullan at\" fonksiyon oluşturmaya yararlar. Hesaplamalı bilimde integral almak, kök bulmak, optimizasyon gibi, fonksiyonlar alarak işlemler yapan fonksiyonlarda kullanılabilirler."
   ]
  }
 ],
 "metadata": {
  "kernelspec": {
   "display_name": "Python 2",
   "language": "python",
   "name": "python2"
  },
  "language_info": {
   "codemirror_mode": {
    "name": "ipython",
    "version": 2
   },
   "file_extension": ".py",
   "mimetype": "text/x-python",
   "name": "python",
   "nbconvert_exporter": "python",
   "pygments_lexer": "ipython2",
   "version": "2.7.6"
  }
 },
 "nbformat": 4,
 "nbformat_minor": 0
}

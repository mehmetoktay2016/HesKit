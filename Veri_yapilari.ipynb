{
 "metadata": {
  "name": ""
 },
 "nbformat": 3,
 "nbformat_minor": 0,
 "worksheets": [
  {
   "cells": [
    {
     "cell_type": "markdown",
     "metadata": {},
     "source": [
      "Python'da say\u0131lardan ba\u015fka, verileri birarada tutan veri tipleri de tan\u0131mlanm\u0131\u015ft\u0131r. Yaz\u0131 bar\u0131nd\u0131ran _dize_ (\u0130ng. string), farkl\u0131 verileri s\u0131ras\u0131yla bar\u0131nd\u0131ran _liste_ ve _\u00e7okuz_ (\u0130ng. tuple), ayr\u0131ca s\u0131ral\u0131 olmayan _s\u00f6zl\u00fck_ ve _k\u00fcme_ yap\u0131lar\u0131 gibi.\n",
      "\n",
      "Gerekti\u011fi zaman yeni bir _s\u0131n\u0131f_ (\u0130ng. class) yaratarak kendi veri tiplerinizi de tan\u0131mlayabilirsiniz, ama burada bu konuya girmeyece\u011fiz."
     ]
    },
    {
     "cell_type": "heading",
     "level": 2,
     "metadata": {},
     "source": [
      "Dizeler"
     ]
    },
    {
     "cell_type": "markdown",
     "metadata": {},
     "source": [
      "Bir _dize_ (string) harfler, rakamlar, i\u015faretler gibi yaz\u0131 karakterlerini bar\u0131nd\u0131r\u0131r. Karakterler tek t\u0131rnak veya \u00e7ift t\u0131rnak aras\u0131nda olmal\u0131d\u0131r. S\u00f6zgeli\u015fi:"
     ]
    },
    {
     "cell_type": "raw",
     "metadata": {},
     "source": [
      "\"Python iyidir\", 'Fatma 12.5.1984', \"qwer123+%!()\", 'a'"
     ]
    },
    {
     "cell_type": "markdown",
     "metadata": {},
     "source": [
      "Python i\u00e7in dizelerin tek t\u0131rnak veya \u00e7ift t\u0131rnak aras\u0131nda olmas\u0131 farketmez. Bu esneklik, i\u00e7inde bu t\u0131rnaklardan bar\u0131nd\u0131ran yaz\u0131larda i\u015fe yarar:"
     ]
    },
    {
     "cell_type": "code",
     "collapsed": false,
     "input": [
      "s1 = \"Kitab\u0131m Ali'de kald\u0131.\"\n",
      "s2 = 'Dedi ki \"yar\u0131n gel al\".'\n",
      "print s1,s2"
     ],
     "language": "python",
     "metadata": {},
     "outputs": [
      {
       "output_type": "stream",
       "stream": "stdout",
       "text": [
        "Kitab\u0131m Ali'de kald\u0131. Dedi ki \"yar\u0131n gel al\".\n"
       ]
      }
     ],
     "prompt_number": 3
    },
    {
     "cell_type": "markdown",
     "metadata": {},
     "source": [
      "Ancak bazen her iki t\u0131rnak tipini kullanmaktan ka\u00e7\u0131namay\u0131z. Mesela"
     ]
    },
    {
     "cell_type": "code",
     "collapsed": false,
     "input": [
      "s3 = \"Ali'nin \"Gel\" dedi\u011fini duydum.\"\n",
      "print s3"
     ],
     "language": "python",
     "metadata": {},
     "outputs": [
      {
       "ename": "SyntaxError",
       "evalue": "invalid syntax (<ipython-input-6-1e15f1adcc58>, line 1)",
       "output_type": "pyerr",
       "traceback": [
        "\u001b[0;36m  File \u001b[0;32m\"<ipython-input-6-1e15f1adcc58>\"\u001b[0;36m, line \u001b[0;32m1\u001b[0m\n\u001b[0;31m    s3 = \"Ali'nin \"Gel\" dedi\u011fini duydum.\"\u001b[0m\n\u001b[0m                     ^\u001b[0m\n\u001b[0;31mSyntaxError\u001b[0m\u001b[0;31m:\u001b[0m invalid syntax\n"
       ]
      }
     ],
     "prompt_number": 6
    },
    {
     "cell_type": "markdown",
     "metadata": {},
     "source": [
      "Bu sorunu gidermek i\u00e7in dize i\u00e7indeki t\u0131rna\u011f\u0131 \\\" bi\u00e7iminde yazmal\u0131y\u0131z. Bu yazma tarz\u0131 t\u0131rnak karakterinin dize sonu i\u015fareti gibi yorumlanmas\u0131n\u0131 engeller, oldu\u011fu gibi kullan\u0131lmas\u0131n\u0131 sa\u011flar."
     ]
    },
    {
     "cell_type": "code",
     "collapsed": false,
     "input": [
      "s3 = \"Ali'nin \\\"Gel\\\" dedi\u011fini duydum.\"\n",
      "print s3"
     ],
     "language": "python",
     "metadata": {},
     "outputs": [
      {
       "output_type": "stream",
       "stream": "stdout",
       "text": [
        "Ali'nin \"Gel\" dedi\u011fini duydum.\n"
       ]
      }
     ],
     "prompt_number": 7
    },
    {
     "cell_type": "markdown",
     "metadata": {},
     "source": [
      "_Ka\u00e7ma karakteri_ denen ters b\u00f6l\u00fc (\\) i\u015fareti \u00f6n\u00fcne geldi\u011fi karakterin anlam\u0131n\u0131 de\u011fi\u015ftirir. S\u00f6zgeli\u015fi, bir dize i\u00e7inde sat\u0131r ba\u015f\u0131na ge\u00e7mek i\u00e7in \"\\n\", sekme (tab) i\u00e7in \"\\t\" yaz\u0131l\u0131r."
     ]
    },
    {
     "cell_type": "code",
     "collapsed": false,
     "input": [
      "s4 = \"Al\u0131nacaklar:\\nS\u00fct\\t1L\\nEkmek\\nYo\u011furt\\t1kg\\n\"\n",
      "print s4"
     ],
     "language": "python",
     "metadata": {},
     "outputs": [
      {
       "output_type": "stream",
       "stream": "stdout",
       "text": [
        "Al\u0131nacaklar:\n",
        "S\u00fct\t1L\n",
        "Ekmek\n",
        "Yo\u011furt\t1kg\n",
        "\n"
       ]
      }
     ],
     "prompt_number": 9
    },
    {
     "cell_type": "markdown",
     "metadata": {},
     "source": [
      "Dizeler \u00fc\u00e7 t\u0131rnak (\"\"\") ile de s\u0131n\u0131rlanabilir. O zaman dizeyi yazarken bast\u0131\u011f\u0131n\u0131z sat\u0131rba\u015flar\u0131 ve sekmeler aynen korunur."
     ]
    },
    {
     "cell_type": "code",
     "collapsed": false,
     "input": [
      "s5 = \"\"\"Al\u0131nacaklar:\n",
      "S\u00fct    1L\n",
      "Ekmek\n",
      "Yo\u011furt    1kg\"\"\"\n",
      "print s5"
     ],
     "language": "python",
     "metadata": {},
     "outputs": [
      {
       "output_type": "stream",
       "stream": "stdout",
       "text": [
        "Al\u0131nacaklar:\n",
        "S\u00fct    1L\n",
        "Ekmek\n",
        "Yo\u011furt    1kg\n"
       ]
      }
     ],
     "prompt_number": 13
    },
    {
     "cell_type": "markdown",
     "metadata": {},
     "source": [
      "_print_ kullanmayarak, bir dizenin Python'da nas\u0131l sakland\u0131\u011f\u0131n\u0131 g\u00f6rebiliriz:"
     ]
    },
    {
     "cell_type": "code",
     "collapsed": false,
     "input": [
      "s3"
     ],
     "language": "python",
     "metadata": {},
     "outputs": [
      {
       "metadata": {},
       "output_type": "pyout",
       "prompt_number": 15,
       "text": [
        "'Ali\\'nin \"Gel\" dedi\\xc4\\x9fini duydum.'"
       ]
      }
     ],
     "prompt_number": 15
    },
    {
     "cell_type": "markdown",
     "metadata": {},
     "source": [
      "G\u00f6r\u00fcld\u00fc\u011f\u00fc gibi Python dizelerin \u00e7evresinde her zaman tek t\u0131rnak kullan\u0131yor; dize i\u00e7indeki tek t\u0131rnaklar\u0131 ka\u00e7ma karakteri (\\') ile temsil ediyor.\n",
      "\n",
      "\\xc4\\x9f ise \u011f karakterinin Unicode say\u0131s\u0131d\u0131r. Python dizelerinde \u0130ngilizcede olmayan harfler Unicode kodlar\u0131na d\u00f6n\u00fc\u015ft\u00fcr\u00fclerek saklan\u0131r, _print_ kullan\u0131ld\u0131\u011f\u0131nda uygun \u015fekilde ekrana basar.\n",
      "\n",
      "Bu Python 2.x versiyonuna \u00f6zg\u00fc bir davran\u0131\u015ft\u0131r. Python 3.x'de dizeler standart olarak Unicode kulland\u0131\u011f\u0131ndan bu kodlamalar g\u00f6r\u00fclmez."
     ]
    },
    {
     "cell_type": "markdown",
     "metadata": {},
     "source": [
      "Dizeler + i\u015flemiyle birle\u015ftirilebilir."
     ]
    },
    {
     "cell_type": "code",
     "collapsed": false,
     "input": [
      "s6 = s1 + \" \" + s3\n",
      "print s6"
     ],
     "language": "python",
     "metadata": {},
     "outputs": [
      {
       "output_type": "stream",
       "stream": "stdout",
       "text": [
        "Kitab\u0131m Ali'de kald\u0131. Ali'nin \"Gel\" dedi\u011fini duydum.\n"
       ]
      }
     ],
     "prompt_number": 17
    },
    {
     "cell_type": "markdown",
     "metadata": {},
     "source": [
      "Tamsay\u0131yla \u00e7arpmak, dizenin o say\u0131 kadar tekrarlanmas\u0131n\u0131 sa\u011flar."
     ]
    },
    {
     "cell_type": "code",
     "collapsed": false,
     "input": [
      "\"abc\"*5"
     ],
     "language": "python",
     "metadata": {},
     "outputs": [
      {
       "metadata": {},
       "output_type": "pyout",
       "prompt_number": 18,
       "text": [
        "'abcabcabcabcabc'"
       ]
      }
     ],
     "prompt_number": 18
    },
    {
     "cell_type": "markdown",
     "metadata": {},
     "source": [
      "Dizeleri say\u0131larla birle\u015ftirmek i\u00e7in \u00f6nce say\u0131y\u0131 _str_ fonksiyonuyla dizeye d\u00f6n\u00fc\u015ft\u00fcrmek gerekir"
     ]
    },
    {
     "cell_type": "code",
     "collapsed": false,
     "input": [
      "x = 1.72\n",
      "y = 80\n",
      "print \"Boyum \" + str(x) + \", kilom \" + str(y) + \".\""
     ],
     "language": "python",
     "metadata": {},
     "outputs": [
      {
       "output_type": "stream",
       "stream": "stdout",
       "text": [
        "Boyum 1.72, kilom 80.\n"
       ]
      }
     ],
     "prompt_number": 22
    },
    {
     "cell_type": "markdown",
     "metadata": {},
     "source": [
      "Bunun ba\u015fka bir yolu da _bi\u00e7imleyici_ (format specifier) kullanmakt\u0131r."
     ]
    },
    {
     "cell_type": "code",
     "collapsed": false,
     "input": [
      "print \"Boyum %.2f, kilom %d.\" % (x,y)"
     ],
     "language": "python",
     "metadata": {},
     "outputs": [
      {
       "output_type": "stream",
       "stream": "stdout",
       "text": [
        "Boyum 1.72, kilom 80.\n"
       ]
      }
     ],
     "prompt_number": 24
    },
    {
     "cell_type": "markdown",
     "metadata": {},
     "source": [
      "Burada %.2f bir virg\u00fcll\u00fc say\u0131n\u0131n virg\u00fclden sonra sadece iki basama\u011f\u0131, %d ise bir tamsay\u0131 demektir. Dizeden sonraki y\u00fczde i\u015faretinin ard\u0131ndan gelen parantez i\u00e7indeki \u00e7okuzdaki s\u0131rayla de\u011ferler yerine konur."
     ]
    },
    {
     "cell_type": "heading",
     "level": 3,
     "metadata": {},
     "source": [
      "Elemanlara eri\u015fme"
     ]
    },
    {
     "cell_type": "markdown",
     "metadata": {},
     "source": [
      "Bir _s\u0131ral\u0131 nesne_ olan dizenin i\u00e7indeki tek tek karakterlere eri\u015fmek i\u00e7in s\u0131ra numaralar\u0131 kullan\u0131labilir. S\u0131ra numaralar\u0131 s\u0131f\u0131rdan ba\u015flar."
     ]
    },
    {
     "cell_type": "code",
     "collapsed": false,
     "input": [
      "isim = \"Albert Einstein\"\n",
      "print isim[0] # ilk karakter\n",
      "print isim[1] # ikinci karakter\n",
      "print isim[-1] # son karakter\n",
      "print isim[-2] # sondan bir \u00f6nceki karakter"
     ],
     "language": "python",
     "metadata": {},
     "outputs": [
      {
       "output_type": "stream",
       "stream": "stdout",
       "text": [
        "A\n",
        "l\n",
        "n\n",
        "i\n"
       ]
      }
     ],
     "prompt_number": 38
    },
    {
     "cell_type": "heading",
     "level": 3,
     "metadata": {},
     "source": [
      "Dilimleme"
     ]
    },
    {
     "cell_type": "markdown",
     "metadata": {},
     "source": [
      "S\u0131ra numaras\u0131 yerine _a:b_ gibi bir ifade yaz\u0131l\u0131rsa, _a_ s\u0131ra numaras\u0131ndan ba\u015flayarak _b-1_ numaral\u0131 karaktere kadar bir dilim elde ederiz. Dilim ifadesi _:b_ bi\u00e7imindeyse ba\u015ftan _b-1_ numaral\u0131 karaktere kadar, _a:_ bi\u00e7imindeyse de _a_ numaral\u0131 karakterden sona kadar dilim al\u0131n\u0131r."
     ]
    },
    {
     "cell_type": "code",
     "collapsed": false,
     "input": [
      "print isim[2:6] # 3.karakterden (isim[2]) 6. karaktere (isim[5]) kadar\n",
      "print isim[:6]  # Ba\u015ftan 6. karaktere kadar\n",
      "print isim[7:]  # 8. karakterden sona kadar\n",
      "print isim[-4:] # son d\u00f6rt karakter\n",
      "print isim[:]   # b\u00fct\u00fcn karakterler"
     ],
     "language": "python",
     "metadata": {},
     "outputs": [
      {
       "output_type": "stream",
       "stream": "stdout",
       "text": [
        "bert\n",
        "Albert\n",
        "Einstein\n",
        "tein\n",
        "Albert Einstein\n"
       ]
      }
     ],
     "prompt_number": 43
    },
    {
     "cell_type": "markdown",
     "metadata": {},
     "source": [
      "Son \u00f6rnek manas\u0131z gelmi\u015f olabilir, ama bir dizenin veya listenin kopyas\u0131n\u0131 \u00fcretmek i\u00e7in kullan\u0131lan yayg\u0131n bir ifadedir.\n",
      "\n",
      "Dilimleme ifadesini _a:b:c_ bi\u00e7iminde verirsek, elemanlar _a_'dan _b-1_'e kadar _c_ ad\u0131mla se\u00e7ilir."
     ]
    },
    {
     "cell_type": "code",
     "collapsed": false,
     "input": [
      "print isim[2:13]    # \u00dc\u00e7\u00fcnc\u00fc karakterden 12. karaktere kadar\n",
      "print isim[2:13:2]  # \u00dc\u00e7\u00fcnc\u00fc karakterden 12. karaktere kadar iki\u015ferli ad\u0131mlarla\n",
      "print isim[::2]     # Ba\u015ftan sona iki\u015ferli ad\u0131mlarla\n",
      "print isim[::-1]    # Negatif ad\u0131m tersten yazar"
     ],
     "language": "python",
     "metadata": {},
     "outputs": [
      {
       "output_type": "stream",
       "stream": "stdout",
       "text": [
        "bert Einste\n",
        "br ise\n",
        "Abr isen\n",
        "nietsniE treblA\n"
       ]
      }
     ],
     "prompt_number": 49
    },
    {
     "cell_type": "heading",
     "level": 2,
     "metadata": {},
     "source": [
      "\u00c7okuzlar"
     ]
    },
    {
     "cell_type": "markdown",
     "metadata": {},
     "source": [
      "Bir _\u00e7okuz_ parantez i\u00e7inde virg\u00fcllerle ayr\u0131lm\u0131\u015f elemanlardan olu\u015fur. Elemanlar\u0131n\u0131n ayn\u0131 tipte olmas\u0131na l\u00fczum yoktur; herhangi bir veri tipi olabilir (ba\u015fka \u00e7okuzlar, dizeler, listeler dahil). Eleman say\u0131s\u0131 s\u0131n\u0131rs\u0131zd\u0131r."
     ]
    },
    {
     "cell_type": "code",
     "collapsed": false,
     "input": [
      "t = (2, (0.1, \"merhaba\"), -2+3j)"
     ],
     "language": "python",
     "metadata": {},
     "outputs": []
    },
    {
     "cell_type": "markdown",
     "metadata": {},
     "source": [
      "Toplama i\u015flemi iki \u00e7okuzu birle\u015ftirir. Tamsay\u0131yla \u00e7arpma i\u015flemi \u00e7okuzun elemanlar\u0131n\u0131 \u00e7arp\u0131lan tamsay\u0131 kadar s\u0131rayla tekrarlar."
     ]
    },
    {
     "cell_type": "code",
     "collapsed": false,
     "input": [
      "print (1,2,3,4)+(7,8,9)\n",
      "print (1,2,3)*4"
     ],
     "language": "python",
     "metadata": {},
     "outputs": [
      {
       "output_type": "stream",
       "stream": "stdout",
       "text": [
        "(1, 2, 3, 4, 7, 8, 9)\n",
        "(1, 2, 3, 1, 2, 3, 1, 2, 3, 1, 2, 3)\n"
       ]
      }
     ],
     "prompt_number": 53
    },
    {
     "cell_type": "markdown",
     "metadata": {},
     "source": [
      "\u00c7okuzlar\u0131n listelerden en \u00f6nemli fark\u0131, _de\u011fi\u015ftirilemez_ (immutable) olmalar\u0131d\u0131r. Bunun anlam\u0131, tek tek elemanlar\u0131na yeni de\u011fer atanamayaca\u011f\u0131, mevcut bir \u00e7okuza bir eleman eklenip \u00e7\u0131kar\u0131lamayaca\u011f\u0131d\u0131r. De\u011fi\u015ftirilemezli\u011fi a\u015fa\u011f\u0131da daha ayr\u0131nt\u0131l\u0131 a\u00e7\u0131klayaca\u011f\u0131z."
     ]
    },
    {
     "cell_type": "markdown",
     "metadata": {},
     "source": [
      "Tek elemanl\u0131 bir \u00e7okuz tan\u0131mlarken sa\u011f parantezden \u00f6nce virg\u00fcl koyar\u0131z."
     ]
    },
    {
     "cell_type": "code",
     "collapsed": false,
     "input": [
      "t = (5,)"
     ],
     "language": "python",
     "metadata": {},
     "outputs": []
    },
    {
     "cell_type": "markdown",
     "metadata": {},
     "source": [
      "Tek tek elemanlara ula\u015fmak ve dilimlemek i\u00e7in yukar\u0131da dizeler i\u00e7in g\u00f6sterdi\u011fimiz y\u00f6ntem kullan\u0131l\u0131r."
     ]
    },
    {
     "cell_type": "code",
     "collapsed": false,
     "input": [
      "t = (1,2,3,4,5,6,7)\n",
      "u = (3.1, (8, 9), -2)\n",
      "print t[1:3]   # t listesinin ikinci ve \u00fc\u00e7\u00fcnc\u00fc elemanlar\u0131\n",
      "print u[1]     # u listesinin ikinci eleman\u0131\n",
      "print u[1][0]  # u listesinin ikinci eleman\u0131n\u0131n birinci eleman\u0131"
     ],
     "language": "python",
     "metadata": {},
     "outputs": [
      {
       "output_type": "stream",
       "stream": "stdout",
       "text": [
        "(2, 3)\n",
        "(8, 9)\n",
        "8\n"
       ]
      }
     ],
     "prompt_number": 54
    },
    {
     "cell_type": "heading",
     "level": 3,
     "metadata": {},
     "source": [
      "\u00c7okuz atamas\u0131"
     ]
    },
    {
     "cell_type": "markdown",
     "metadata": {},
     "source": [
      "Bir ataman\u0131n sol taraf\u0131nda bir \u00e7okuz varsa, sa\u011f taraftaki de\u011ferler soldaki \u00e7okuzun elemanlar\u0131na s\u0131rayla atan\u0131r."
     ]
    },
    {
     "cell_type": "code",
     "collapsed": false,
     "input": [
      "(x,y,z) = (7,9,12)\n",
      "print x\n",
      "print y\n",
      "print z"
     ],
     "language": "python",
     "metadata": {},
     "outputs": [
      {
       "output_type": "stream",
       "stream": "stdout",
       "text": [
        "7\n",
        "9\n",
        "12\n"
       ]
      }
     ],
     "prompt_number": 56
    },
    {
     "cell_type": "markdown",
     "metadata": {},
     "source": [
      "Ayn\u0131s\u0131n\u0131 parantez kullanmadan da yapabiliriz."
     ]
    },
    {
     "cell_type": "code",
     "collapsed": false,
     "input": [
      "x,y,z = 7,9,12"
     ],
     "language": "python",
     "metadata": {},
     "outputs": [],
     "prompt_number": 36
    },
    {
     "cell_type": "markdown",
     "metadata": {},
     "source": [
      "Bu \u00f6zellik kod k\u0131sal\u0131\u011f\u0131 sa\u011flaman\u0131n yan\u0131 s\u0131ra, iki de\u011fi\u015fkenin de\u011ferinin, ge\u00e7ici bir de\u011fi\u015fken kullanmadan kolayl\u0131kla de\u011fi\u015f-toku\u015f edilmesini de sa\u011flar."
     ]
    },
    {
     "cell_type": "code",
     "collapsed": false,
     "input": [
      "x, y = y, x\n",
      "print x\n",
      "print y"
     ],
     "language": "python",
     "metadata": {},
     "outputs": [
      {
       "output_type": "stream",
       "stream": "stdout",
       "text": [
        "9\n",
        "7\n"
       ]
      }
     ],
     "prompt_number": 37
    },
    {
     "cell_type": "markdown",
     "metadata": {},
     "source": [
      "\u00c7okuz atamas\u0131 kullanarak bir fonksiyonun birden fazla de\u011fer d\u00f6nd\u00fcr\u00fcr gibi davranmas\u0131n\u0131 sa\u011flayabiliriz. S\u00f6zgeli\u015fi, _f_ fonksiyonu \u00fc\u00e7 elemanl\u0131 bir \u00e7okuz d\u00f6nd\u00fcrs\u00fcn. Bu de\u011ferleri tek tek almak i\u00e7in \u015f\u00f6yle bir atama yap\u0131labilir."
     ]
    },
    {
     "cell_type": "raw",
     "metadata": {},
     "source": [
      "x, y, z = f()"
     ]
    },
    {
     "cell_type": "markdown",
     "metadata": {},
     "source": [
      "Elbette t = f() gibi bir atama yap\u0131p, sonra t'nin elemanlar\u0131na tek tek eri\u015fmek de m\u00fcmk\u00fcn."
     ]
    },
    {
     "cell_type": "heading",
     "level": 2,
     "metadata": {},
     "source": [
      "Listeler"
     ]
    },
    {
     "cell_type": "markdown",
     "metadata": {},
     "source": [
      "Bir _liste_ k\u00f6\u015feli parantezle tan\u0131mlan\u0131r ve elemanlar virg\u00fcllerle ayr\u0131l\u0131r. Liste elemanlar\u0131n\u0131n ayn\u0131 tipte olmas\u0131na l\u00fczum yoktur; herhangi bir veri tipi liste eleman\u0131 olabilir. Listeler istendi\u011fi kadar uzun olabilir."
     ]
    },
    {
     "cell_type": "code",
     "collapsed": false,
     "input": [
      "x = [1,-2, 0.1, 1+2j]\n",
      "y = [\"merhaba\", [2, 3]]"
     ],
     "language": "python",
     "metadata": {},
     "outputs": [],
     "prompt_number": 51
    },
    {
     "cell_type": "markdown",
     "metadata": {},
     "source": [
      "Toplama i\u015flemi iki listeyi birle\u015ftiren yeni bir liste verir."
     ]
    },
    {
     "cell_type": "code",
     "collapsed": false,
     "input": [
      "x + y"
     ],
     "language": "python",
     "metadata": {},
     "outputs": [
      {
       "metadata": {},
       "output_type": "pyout",
       "prompt_number": 29,
       "text": [
        "[1, -2, 0.1, (1+2j), 'merhaba', [2, 3]]"
       ]
      }
     ],
     "prompt_number": 29
    },
    {
     "cell_type": "markdown",
     "metadata": {},
     "source": [
      "Bir listeyle bir tamsay\u0131y\u0131 \u00e7arpmak, listenin elemanlar\u0131n\u0131 o say\u0131 kadar tekrarlar. Bir liste virg\u00fcll\u00fc bir say\u0131yla veya ba\u015fka bir listeyle \u00e7arp\u0131lamaz."
     ]
    },
    {
     "cell_type": "code",
     "collapsed": false,
     "input": [
      "y*2"
     ],
     "language": "python",
     "metadata": {},
     "outputs": [
      {
       "metadata": {},
       "output_type": "pyout",
       "prompt_number": 27,
       "text": [
        "['merhaba', [2, 3], 'merhaba', [2, 3]]"
       ]
      }
     ],
     "prompt_number": 27
    },
    {
     "cell_type": "markdown",
     "metadata": {},
     "source": [
      "Dizeler k\u0131sm\u0131nda bahsetti\u011fimiz dilimleme i\u015flemleri listelerde de aynen kullan\u0131labilir."
     ]
    },
    {
     "cell_type": "heading",
     "level": 3,
     "metadata": {},
     "source": [
      "S\u0131ral\u0131 say\u0131 listesi olu\u015fturmak"
     ]
    },
    {
     "cell_type": "markdown",
     "metadata": {},
     "source": [
      "_range_ fonksiyonu d\u00fczenli artan (veya azalan) tamsay\u0131lar listesi olu\u015fturur.\n"
     ]
    },
    {
     "cell_type": "code",
     "collapsed": false,
     "input": [
      "print range(10)     # 0-9\n",
      "print range(1,11)   # 1-10\n",
      "print range(-5,6,2) # \u0130kili ad\u0131mlar: -5, -3, -1, 1, 3, 5"
     ],
     "language": "python",
     "metadata": {},
     "outputs": [
      {
       "output_type": "stream",
       "stream": "stdout",
       "text": [
        "[0, 1, 2, 3, 4, 5, 6, 7, 8, 9]\n",
        "[1, 2, 3, 4, 5, 6, 7, 8, 9, 10]\n",
        "[-5, -3, -1, 1, 3, 5]\n"
       ]
      }
     ],
     "prompt_number": 76
    },
    {
     "cell_type": "heading",
     "level": 3,
     "metadata": {},
     "source": [
      "Elemanlar\u0131 de\u011fi\u015ftirme"
     ]
    },
    {
     "cell_type": "markdown",
     "metadata": {},
     "source": [
      "Liste elemanlar\u0131 basit atama i\u015flemiyle de\u011fi\u015ftirilebilir. Listeden alaca\u011f\u0131m\u0131z bir dilime de atama yapabiliriz."
     ]
    },
    {
     "cell_type": "code",
     "collapsed": false,
     "input": [
      "L = [1,2,3,4]\n",
      "L[0] = 7\n",
      "print L # [7,2,3,4]\n",
      "L[1] = (6,9)\n",
      "print L # [7, (6,9), 3, 4]\n",
      "L[2:4] = [0.1, \"a\"]\n",
      "print L # [7, (6,9), 0.1, 'a']"
     ],
     "language": "python",
     "metadata": {},
     "outputs": [
      {
       "output_type": "stream",
       "stream": "stdout",
       "text": [
        "[7, 2, 3, 4]\n",
        "[7, (6, 9), 3, 4]\n",
        "[7, (6, 9), 0.1, 'a']\n"
       ]
      }
     ],
     "prompt_number": 57
    },
    {
     "cell_type": "heading",
     "level": 3,
     "metadata": {},
     "source": [
      "Listeye eleman ekleme-\u00e7\u0131karma"
     ]
    },
    {
     "cell_type": "markdown",
     "metadata": {},
     "source": [
      "Bir _L_ listesinin sonuna bir eleman eklemek i\u00e7in _L.append_ metodu kullan\u0131labilir."
     ]
    },
    {
     "cell_type": "code",
     "collapsed": false,
     "input": [
      "L = [1,2,3,4,5]\n",
      "L.append(6)\n",
      "print L"
     ],
     "language": "python",
     "metadata": {},
     "outputs": [
      {
       "output_type": "stream",
       "stream": "stdout",
       "text": [
        "[1, 2, 3, 4, 5, 6]\n"
       ]
      }
     ],
     "prompt_number": 62
    },
    {
     "cell_type": "markdown",
     "metadata": {},
     "source": [
      "Bir listeye yeni bir listeden elemanlar\u0131 eklemek i\u00e7in _extend_ metodu kullan\u0131l\u0131r."
     ]
    },
    {
     "cell_type": "code",
     "collapsed": false,
     "input": [
      "L.extend([7,8,9])\n",
      "print L"
     ],
     "language": "python",
     "metadata": {},
     "outputs": [
      {
       "output_type": "stream",
       "stream": "stdout",
       "text": [
        "[1, 2, 3, 4, 5, 6, 7, 8, 9]\n"
       ]
      }
     ],
     "prompt_number": 63
    },
    {
     "cell_type": "markdown",
     "metadata": {},
     "source": [
      "_append_'in sadece tek eleman ekledi\u011fine dikkat edin:"
     ]
    },
    {
     "cell_type": "code",
     "collapsed": false,
     "input": [
      "L = [1,2,3,4,5]\n",
      "L.append([7,8,9])\n",
      "print L"
     ],
     "language": "python",
     "metadata": {},
     "outputs": [
      {
       "output_type": "stream",
       "stream": "stdout",
       "text": [
        "[1, 2, 3, 4, 5, [7, 8, 9]]\n"
       ]
      }
     ],
     "prompt_number": 64
    },
    {
     "cell_type": "markdown",
     "metadata": {},
     "source": [
      "_L1.extend(L2)_ yerine L1 += L2 i\u015flemi de kullan\u0131labilir"
     ]
    },
    {
     "cell_type": "code",
     "collapsed": false,
     "input": [
      "L = [1,2,3,4,5]\n",
      "L += [7,8,9]\n",
      "print L"
     ],
     "language": "python",
     "metadata": {},
     "outputs": [
      {
       "output_type": "stream",
       "stream": "stdout",
       "text": [
        "[1, 2, 3, 4, 5, 7, 8, 9]\n"
       ]
      }
     ],
     "prompt_number": 71
    },
    {
     "cell_type": "markdown",
     "metadata": {},
     "source": [
      "_insert_ metodu bir eleman\u0131 belli bir pozisyona yerle\u015ftirir, sonraki elemanlar\u0131 kayd\u0131r\u0131r."
     ]
    },
    {
     "cell_type": "code",
     "collapsed": false,
     "input": [
      "L = range(8)      # [0,1,2,3,4,5,6,7]\n",
      "L.insert(5, \"a\")  # \"a\"y\u0131 5 numaral\u0131 indekse (alt\u0131nc\u0131 s\u0131raya) yerle\u015ftir.\n",
      "print L"
     ],
     "language": "python",
     "metadata": {},
     "outputs": [
      {
       "output_type": "stream",
       "stream": "stdout",
       "text": [
        "[0, 1, 2, 3, 4, 'a', 5, 6, 7]\n"
       ]
      }
     ],
     "prompt_number": 77
    },
    {
     "cell_type": "markdown",
     "metadata": {},
     "source": [
      "_del_ komutu belli bir eleman\u0131 siler. Di\u011fer liste elemanlar\u0131 otomatik olarak do\u011fru yere kayarlar."
     ]
    },
    {
     "cell_type": "code",
     "collapsed": false,
     "input": [
      "del L[5]\n",
      "print L"
     ],
     "language": "python",
     "metadata": {},
     "outputs": [
      {
       "output_type": "stream",
       "stream": "stdout",
       "text": [
        "[0, 1, 2, 3, 4, 5, 6, 7]\n"
       ]
      }
     ],
     "prompt_number": 78
    },
    {
     "cell_type": "markdown",
     "metadata": {},
     "source": [
      "Listeden bir dilimi silmek de m\u00fcmk\u00fcn:"
     ]
    },
    {
     "cell_type": "code",
     "collapsed": false,
     "input": [
      "del L[2:5]\n",
      "print L"
     ],
     "language": "python",
     "metadata": {},
     "outputs": [
      {
       "output_type": "stream",
       "stream": "stdout",
       "text": [
        "[0, 1, 5, 6, 7]\n"
       ]
      }
     ],
     "prompt_number": 79
    },
    {
     "cell_type": "heading",
     "level": 2,
     "metadata": {},
     "source": [
      "De\u011fi\u015ftirilemeyen veri tipleri"
     ]
    },
    {
     "cell_type": "markdown",
     "metadata": {},
     "source": [
      "Python'a ba\u015flayanlar\u0131n merak etti\u011fi noktalardan biri, neden \u00e7okuz ve liste gibi neredeyse t\u0131pat\u0131p ayn\u0131 iki veri tipinin bulundu\u011fudur. \u0130ki tip aras\u0131ndaki temel fark \u015fu: Listeler _de\u011fi\u015ftirilebilir_ (mutable) tiplerdir, \u00e7okuzlar ise _de\u011fi\u015ftirilemez_ (immutable). Yukar\u0131da listeler i\u00e7in g\u00f6sterdi\u011fimiz eleman silme, eleman ekleme, araya eleman sokma gibi i\u015flemler \u00e7okuzlarda yap\u0131lamaz. Bir \u00e7okuz eleman\u0131na yeni bir de\u011fer de atanamaz."
     ]
    },
    {
     "cell_type": "code",
     "collapsed": false,
     "input": [
      "c = (1,2,3,4,5)\n",
      "del c[2]"
     ],
     "language": "python",
     "metadata": {},
     "outputs": [
      {
       "ename": "TypeError",
       "evalue": "'tuple' object doesn't support item deletion",
       "output_type": "pyerr",
       "traceback": [
        "\u001b[0;31m---------------------------------------------------------------------------\u001b[0m\n\u001b[0;31mTypeError\u001b[0m                                 Traceback (most recent call last)",
        "\u001b[0;32m<ipython-input-80-3bae2e9f2c19>\u001b[0m in \u001b[0;36m<module>\u001b[0;34m()\u001b[0m\n\u001b[1;32m      1\u001b[0m \u001b[0mc\u001b[0m \u001b[0;34m=\u001b[0m \u001b[0;34m(\u001b[0m\u001b[0;36m1\u001b[0m\u001b[0;34m,\u001b[0m\u001b[0;36m2\u001b[0m\u001b[0;34m,\u001b[0m\u001b[0;36m3\u001b[0m\u001b[0;34m,\u001b[0m\u001b[0;36m4\u001b[0m\u001b[0;34m,\u001b[0m\u001b[0;36m5\u001b[0m\u001b[0;34m)\u001b[0m\u001b[0;34m\u001b[0m\u001b[0m\n\u001b[0;32m----> 2\u001b[0;31m \u001b[0;32mdel\u001b[0m \u001b[0mc\u001b[0m\u001b[0;34m[\u001b[0m\u001b[0;36m2\u001b[0m\u001b[0;34m]\u001b[0m\u001b[0;34m\u001b[0m\u001b[0m\n\u001b[0m",
        "\u001b[0;31mTypeError\u001b[0m: 'tuple' object doesn't support item deletion"
       ]
      }
     ],
     "prompt_number": 80
    },
    {
     "cell_type": "code",
     "collapsed": false,
     "input": [
      "c[2] = 0"
     ],
     "language": "python",
     "metadata": {},
     "outputs": [
      {
       "ename": "TypeError",
       "evalue": "'tuple' object does not support item assignment",
       "output_type": "pyerr",
       "traceback": [
        "\u001b[0;31m---------------------------------------------------------------------------\u001b[0m\n\u001b[0;31mTypeError\u001b[0m                                 Traceback (most recent call last)",
        "\u001b[0;32m<ipython-input-81-5ae2b43fbf6f>\u001b[0m in \u001b[0;36m<module>\u001b[0;34m()\u001b[0m\n\u001b[0;32m----> 1\u001b[0;31m \u001b[0mc\u001b[0m\u001b[0;34m[\u001b[0m\u001b[0;36m2\u001b[0m\u001b[0;34m]\u001b[0m \u001b[0;34m=\u001b[0m \u001b[0;36m0\u001b[0m\u001b[0;34m\u001b[0m\u001b[0m\n\u001b[0m",
        "\u001b[0;31mTypeError\u001b[0m: 'tuple' object does not support item assignment"
       ]
      }
     ],
     "prompt_number": 81
    },
    {
     "cell_type": "markdown",
     "metadata": {},
     "source": [
      "Baz\u0131 i\u015flemler ve fonksiyonlar tasar\u0131mlar\u0131 a\u00e7\u0131s\u0131ndan, kullan\u0131c\u0131n\u0131n de\u011fi\u015ftirilemeyecek veri tipleri kullanmal\u0131d\u0131rlar. S\u00f6zgeli\u015fi, a\u015fa\u011f\u0131da g\u00f6rece\u011fimiz s\u00f6zl\u00fck yap\u0131lar\u0131n\u0131n anahtar (key) olarak de\u011fi\u015ftirilemez tipler almalar\u0131 gerekir. \u00c7okuzlar b\u00f6yle durumlarda liste yerine kullan\u0131l\u0131r.\n",
      "\n",
      "\u00c7okuzlar _de\u011fi\u015ftirilemez_ de olsalar, kulland\u0131\u011f\u0131m\u0131z bir \u00e7okuz ismine yeni bir atama yapabiliriz. Python'da isimler ve onlar\u0131n i\u015faret etti\u011fi nesneler ayr\u0131 tutulur. Yeni bir atama, eski nesnenin at\u0131lmas\u0131na ve ismin yeni nesneye i\u015faret etmesine neden olur.\n",
      "\n",
      "Varolan bir \u00e7okuz eleman\u0131n\u0131 de\u011fi\u015ftiremesek de, dilimleme ve yeniden atama ile ayn\u0131 etkiyi dolayl\u0131 yoldan yaratabiliriz."
     ]
    },
    {
     "cell_type": "code",
     "collapsed": false,
     "input": [
      "c = (0,1,2,3,4,5)\n",
      "c = c[:3]+c[4:] # 3 eleman\u0131n\u0131 sil\n",
      "print c"
     ],
     "language": "python",
     "metadata": {},
     "outputs": [
      {
       "output_type": "stream",
       "stream": "stdout",
       "text": [
        "(0, 1, 2, 4, 5)\n"
       ]
      }
     ],
     "prompt_number": 86
    },
    {
     "cell_type": "code",
     "collapsed": false,
     "input": [
      "c = (0,1,2,3,4,5)\n",
      "c = c[:3]+('a',)+c[4:] # 3 yerine 'a' koy\n",
      "print c"
     ],
     "language": "python",
     "metadata": {},
     "outputs": [
      {
       "output_type": "stream",
       "stream": "stdout",
       "text": [
        "(0, 1, 2, 'a', 4, 5)\n"
       ]
      }
     ],
     "prompt_number": 84
    },
    {
     "cell_type": "code",
     "collapsed": false,
     "input": [
      "c = (0,1,2,3,4,5)\n",
      "c = c[:3]+('a',)+c[3:] # 2 ile 3 aras\u0131na 'a' koy\n",
      "print c"
     ],
     "language": "python",
     "metadata": {},
     "outputs": [
      {
       "output_type": "stream",
       "stream": "stdout",
       "text": [
        "(0, 1, 2, 'a', 3, 4, 5)\n"
       ]
      }
     ],
     "prompt_number": 85
    },
    {
     "cell_type": "markdown",
     "metadata": {},
     "source": [
      "Dizeler de de\u011fi\u015ftirilemez tiplerdir, ama yukar\u0131daki gibi dilimleme ve yeniden atama i\u015flemleri ile d\u00fczenlenebilirler."
     ]
    },
    {
     "cell_type": "heading",
     "level": 2,
     "metadata": {},
     "source": [
      "Dizili nesne i\u015flemleri"
     ]
    },
    {
     "cell_type": "heading",
     "level": 3,
     "metadata": {},
     "source": [
      "Eleman say\u0131s\u0131"
     ]
    },
    {
     "cell_type": "markdown",
     "metadata": {},
     "source": [
      "_len_ fonksiyonu ald\u0131\u011f\u0131 bir nesnenin ka\u00e7 eleman bar\u0131nd\u0131rd\u0131\u011f\u0131n\u0131 verir."
     ]
    },
    {
     "cell_type": "code",
     "collapsed": false,
     "input": [
      "L = [1,2,3,(4,5,6)]  # d\u00f6rt elemanl\u0131, son eleman bir \u00e7okuz\n",
      "print len(L)\n",
      "print len(L[3])\n",
      "print len(\"Merhaba\")"
     ],
     "language": "python",
     "metadata": {},
     "outputs": [
      {
       "output_type": "stream",
       "stream": "stdout",
       "text": [
        "4\n",
        "3\n",
        "7\n"
       ]
      }
     ],
     "prompt_number": 96
    },
    {
     "cell_type": "heading",
     "level": 3,
     "metadata": {},
     "source": [
      "Birbirine d\u00f6n\u00fc\u015ft\u00fcrme"
     ]
    },
    {
     "cell_type": "markdown",
     "metadata": {},
     "source": [
      "\u00c7e\u015fitli yerlerde liste, \u00e7okuz ve dize aras\u0131nda de\u011fi\u015fiklikler yapman\u0131z gerekebilir. Bir dizili nesne verildi\u011finde _list_ fonksiyonu onun liste halini, _tuple_ fonksiyonu ise \u00e7okuz halini d\u00f6nd\u00fcr\u00fcr."
     ]
    },
    {
     "cell_type": "code",
     "collapsed": false,
     "input": [
      "c = (1,2,\"abc\",(7,8,9))\n",
      "L = [-1, [\"a\", \"b\"]]\n",
      "print list(c)\n",
      "print tuple(L)\n",
      "print list(\"merhaba\")"
     ],
     "language": "python",
     "metadata": {},
     "outputs": [
      {
       "output_type": "stream",
       "stream": "stdout",
       "text": [
        "[1, 2, 'abc', (7, 8, 9)]\n",
        "(-1, ['a', 'b'])\n",
        "['m', 'e', 'r', 'h', 'a', 'b', 'a']\n"
       ]
      }
     ],
     "prompt_number": 98
    },
    {
     "cell_type": "markdown",
     "metadata": {},
     "source": [
      "Bir karakter listesini (veya \u00e7okuzunu) bir dizeye d\u00f6n\u00fc\u015ft\u00fcrmek i\u00e7in, dize nesnesinin _join_ metodunu kullan\u0131r\u0131z."
     ]
    },
    {
     "cell_type": "code",
     "collapsed": false,
     "input": [
      "L = list(\"merhaba\")\n",
      "print L\n",
      "s = \"\".join(L)\n",
      "print s"
     ],
     "language": "python",
     "metadata": {},
     "outputs": [
      {
       "output_type": "stream",
       "stream": "stdout",
       "text": [
        "['m', 'e', 'r', 'h', 'a', 'b', 'a']\n",
        "merhaba\n"
       ]
      }
     ],
     "prompt_number": 102
    },
    {
     "cell_type": "markdown",
     "metadata": {},
     "source": [
      "Tabii burada _L_'nin elemanlar\u0131n\u0131n dize olmas\u0131na dikkat etmelisiniz.  \n",
      "Genel olarak _s.join(L)_ komutu, _L_'nin her eleman\u0131 aras\u0131na _s_ dizesini yerle\u015ftirir:"
     ]
    },
    {
     "cell_type": "code",
     "collapsed": false,
     "input": [
      "s = \"-*-\".join(L)\n",
      "print s"
     ],
     "language": "python",
     "metadata": {},
     "outputs": [
      {
       "output_type": "stream",
       "stream": "stdout",
       "text": [
        "m-*-e-*-r-*-h-*-a-*-b-*-a\n"
       ]
      }
     ],
     "prompt_number": 103
    },
    {
     "cell_type": "heading",
     "level": 3,
     "metadata": {},
     "source": [
      "En b\u00fcy\u00fck ve en k\u00fc\u00e7\u00fck elemanlar"
     ]
    },
    {
     "cell_type": "markdown",
     "metadata": {},
     "source": [
      "_max(L)_ fonksiyonu _L_'nin en b\u00fcy\u00fck eleman\u0131n\u0131, _min(L)_ ise en k\u00fc\u00e7\u00fck eleman\u0131n\u0131 verir."
     ]
    },
    {
     "cell_type": "code",
     "collapsed": false,
     "input": [
      "L = [-2, 3, 7, 1, 9, 0, -5]\n",
      "print max(L), min(L)"
     ],
     "language": "python",
     "metadata": {},
     "outputs": [
      {
       "output_type": "stream",
       "stream": "stdout",
       "text": [
        "9 -5\n"
       ]
      }
     ],
     "prompt_number": 104
    },
    {
     "cell_type": "heading",
     "level": 3,
     "metadata": {},
     "source": [
      "S\u0131ralama"
     ]
    },
    {
     "cell_type": "markdown",
     "metadata": {},
     "source": [
      "_sorted_ fonksiyonu bir dizili nesnenin elemanlar\u0131n\u0131 s\u0131ralayarak liste halinde geri verir."
     ]
    },
    {
     "cell_type": "code",
     "collapsed": false,
     "input": [
      "print sorted( (1,0,4,3,5,2,9,7,8,6) )\n",
      "print sorted( (1,0,4,3,5,2,9,7,8,6) , reverse = True) # ters s\u0131ralama\n",
      "print sorted( (\"ali\", \"fatma\", \"mehmet\", \"duygu\") ) # alfabetik s\u0131ralama"
     ],
     "language": "python",
     "metadata": {},
     "outputs": [
      {
       "output_type": "stream",
       "stream": "stdout",
       "text": [
        "[0, 1, 2, 3, 4, 5, 6, 7, 8, 9]\n",
        "[9, 8, 7, 6, 5, 4, 3, 2, 1, 0]\n",
        "['ali', 'duygu', 'fatma', 'mehmet']\n"
       ]
      }
     ],
     "prompt_number": 107
    },
    {
     "cell_type": "heading",
     "level": 3,
     "metadata": {},
     "source": [
      "Toplam almak"
     ]
    },
    {
     "cell_type": "markdown",
     "metadata": {},
     "source": [
      "_sum_ fonksiyonu elementlerin toplam\u0131n\u0131 verir."
     ]
    },
    {
     "cell_type": "code",
     "collapsed": false,
     "input": [
      "c = (1,2,4,-1,-3)\n",
      "print sum(c)"
     ],
     "language": "python",
     "metadata": {},
     "outputs": [
      {
       "output_type": "stream",
       "stream": "stdout",
       "text": [
        "3\n"
       ]
      }
     ],
     "prompt_number": 116
    },
    {
     "cell_type": "markdown",
     "metadata": {},
     "source": [
      "1'den 100'e kadar olan say\u0131lar\u0131n toplam\u0131:"
     ]
    },
    {
     "cell_type": "code",
     "collapsed": false,
     "input": [
      "print \"1 + 2 + ... + 100 = \", sum(range(101))"
     ],
     "language": "python",
     "metadata": {},
     "outputs": [
      {
       "output_type": "stream",
       "stream": "stdout",
       "text": [
        "1 + 2 + ... + 100 =  5050\n"
       ]
      }
     ],
     "prompt_number": 115
    },
    {
     "cell_type": "heading",
     "level": 3,
     "metadata": {},
     "source": [
      "Ayr\u0131 listelerin elemanlar\u0131n\u0131 birle\u015ftirmek"
     ]
    },
    {
     "cell_type": "markdown",
     "metadata": {},
     "source": [
      "Elinizde birbiriyle ilgili veriler bar\u0131nd\u0131ran, ayn\u0131 uzunlukta iki liste oldu\u011funda bazen bunlar\u0131n elemanlar\u0131n\u0131 e\u015fle\u015ftirmek isteyebilirsiniz. S\u00f6zgeli\u015fi"
     ]
    },
    {
     "cell_type": "code",
     "collapsed": false,
     "input": [
      "L1 = (\"Ahmet\", \"Burcu\", \"Kemal\", \"Zeynep\")   # isimler\n",
      "L2 = (19, 18, 22, 23)  # ya\u015flar"
     ],
     "language": "python",
     "metadata": {},
     "outputs": [],
     "prompt_number": 119
    },
    {
     "cell_type": "markdown",
     "metadata": {},
     "source": [
      "listelerini al\u0131p, ki\u015filerin isimlerini ve ya\u015flar\u0131n\u0131 bir \u00e7okuzda birle\u015ftirerek, hepsini bir listede toplamak i\u00e7in _zip_ fonksiyonu kullan\u0131labilir."
     ]
    },
    {
     "cell_type": "code",
     "collapsed": false,
     "input": [
      "print zip(L1,L2)"
     ],
     "language": "python",
     "metadata": {},
     "outputs": [
      {
       "output_type": "stream",
       "stream": "stdout",
       "text": [
        "[('Ahmet', 19), ('Burcu', 18), ('Kemal', 22), ('Zeynep', 23)]\n"
       ]
      }
     ],
     "prompt_number": 120
    },
    {
     "cell_type": "heading",
     "level": 2,
     "metadata": {},
     "source": [
      "S\u00f6zl\u00fckler"
     ]
    },
    {
     "cell_type": "code",
     "collapsed": false,
     "input": [],
     "language": "python",
     "metadata": {},
     "outputs": []
    }
   ],
   "metadata": {}
  }
 ]
}